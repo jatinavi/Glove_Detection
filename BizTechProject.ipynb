{
  "nbformat": 4,
  "nbformat_minor": 0,
  "metadata": {
    "colab": {
      "provenance": [],
      "gpuType": "T4"
    },
    "kernelspec": {
      "name": "python3",
      "display_name": "Python 3"
    },
    "language_info": {
      "name": "python"
    },
    "accelerator": "GPU"
  },
  "cells": [
    {
      "cell_type": "code",
      "source": [
        "!pip install roboflow ultralytics\n",
        "\n",
        "from roboflow import Roboflow\n",
        "\n",
        "# 🔑 replace with your actual API key\n",
        "rf = Roboflow(api_key=\"SN4AaJvnqHOUE0iDKNth\")\n",
        "\n",
        "# workspace & project name are shown in your dataset download page\n",
        "project = rf.workspace(\"computer-vision-in-ai\").project(\"glove-szkfk\")\n",
        "\n",
        "# choose version\n",
        "version = project.version(30)\n",
        "\n",
        "# download dataset in YOLOv8 format\n",
        "dataset = version.download(\"yolov8\")\n",
        "\n",
        "# dataset.location will give you the path\n",
        "print(\"Dataset downloaded at:\", dataset.location)\n",
        "\n",
        ""
      ],
      "metadata": {
        "colab": {
          "base_uri": "https://localhost:8080/"
        },
        "id": "c6AWX3CI2KMW",
        "outputId": "3e6d4e6b-7ea2-4573-b777-0c78bb16707c"
      },
      "execution_count": 1,
      "outputs": [
        {
          "output_type": "stream",
          "name": "stdout",
          "text": [
            "Collecting roboflow\n",
            "  Downloading roboflow-1.2.6-py3-none-any.whl.metadata (9.7 kB)\n",
            "Collecting ultralytics\n",
            "  Downloading ultralytics-8.3.184-py3-none-any.whl.metadata (37 kB)\n",
            "Requirement already satisfied: certifi in /usr/local/lib/python3.12/dist-packages (from roboflow) (2025.8.3)\n",
            "Collecting idna==3.7 (from roboflow)\n",
            "  Downloading idna-3.7-py3-none-any.whl.metadata (9.9 kB)\n",
            "Requirement already satisfied: cycler in /usr/local/lib/python3.12/dist-packages (from roboflow) (0.12.1)\n",
            "Requirement already satisfied: kiwisolver>=1.3.1 in /usr/local/lib/python3.12/dist-packages (from roboflow) (1.4.9)\n",
            "Requirement already satisfied: matplotlib in /usr/local/lib/python3.12/dist-packages (from roboflow) (3.10.0)\n",
            "Requirement already satisfied: numpy>=1.18.5 in /usr/local/lib/python3.12/dist-packages (from roboflow) (2.0.2)\n",
            "Collecting opencv-python-headless==4.10.0.84 (from roboflow)\n",
            "  Downloading opencv_python_headless-4.10.0.84-cp37-abi3-manylinux_2_17_x86_64.manylinux2014_x86_64.whl.metadata (20 kB)\n",
            "Requirement already satisfied: Pillow>=7.1.2 in /usr/local/lib/python3.12/dist-packages (from roboflow) (11.3.0)\n",
            "Collecting pi-heif<2 (from roboflow)\n",
            "  Downloading pi_heif-1.1.0-cp312-cp312-manylinux_2_27_x86_64.manylinux_2_28_x86_64.whl.metadata (6.5 kB)\n",
            "Collecting pillow-avif-plugin<2 (from roboflow)\n",
            "  Downloading pillow_avif_plugin-1.5.2-cp312-cp312-manylinux_2_28_x86_64.whl.metadata (2.1 kB)\n",
            "Requirement already satisfied: python-dateutil in /usr/local/lib/python3.12/dist-packages (from roboflow) (2.9.0.post0)\n",
            "Requirement already satisfied: python-dotenv in /usr/local/lib/python3.12/dist-packages (from roboflow) (1.1.1)\n",
            "Requirement already satisfied: requests in /usr/local/lib/python3.12/dist-packages (from roboflow) (2.32.4)\n",
            "Requirement already satisfied: six in /usr/local/lib/python3.12/dist-packages (from roboflow) (1.17.0)\n",
            "Requirement already satisfied: urllib3>=1.26.6 in /usr/local/lib/python3.12/dist-packages (from roboflow) (2.5.0)\n",
            "Requirement already satisfied: tqdm>=4.41.0 in /usr/local/lib/python3.12/dist-packages (from roboflow) (4.67.1)\n",
            "Requirement already satisfied: PyYAML>=5.3.1 in /usr/local/lib/python3.12/dist-packages (from roboflow) (6.0.2)\n",
            "Requirement already satisfied: requests-toolbelt in /usr/local/lib/python3.12/dist-packages (from roboflow) (1.0.0)\n",
            "Collecting filetype (from roboflow)\n",
            "  Downloading filetype-1.2.0-py2.py3-none-any.whl.metadata (6.5 kB)\n",
            "Requirement already satisfied: opencv-python>=4.6.0 in /usr/local/lib/python3.12/dist-packages (from ultralytics) (4.12.0.88)\n",
            "Requirement already satisfied: scipy>=1.4.1 in /usr/local/lib/python3.12/dist-packages (from ultralytics) (1.16.1)\n",
            "Requirement already satisfied: torch>=1.8.0 in /usr/local/lib/python3.12/dist-packages (from ultralytics) (2.8.0+cu126)\n",
            "Requirement already satisfied: torchvision>=0.9.0 in /usr/local/lib/python3.12/dist-packages (from ultralytics) (0.23.0+cu126)\n",
            "Requirement already satisfied: psutil in /usr/local/lib/python3.12/dist-packages (from ultralytics) (5.9.5)\n",
            "Requirement already satisfied: py-cpuinfo in /usr/local/lib/python3.12/dist-packages (from ultralytics) (9.0.0)\n",
            "Requirement already satisfied: pandas>=1.1.4 in /usr/local/lib/python3.12/dist-packages (from ultralytics) (2.2.2)\n",
            "Collecting ultralytics-thop>=2.0.0 (from ultralytics)\n",
            "  Downloading ultralytics_thop-2.0.16-py3-none-any.whl.metadata (14 kB)\n",
            "Requirement already satisfied: contourpy>=1.0.1 in /usr/local/lib/python3.12/dist-packages (from matplotlib->roboflow) (1.3.3)\n",
            "Requirement already satisfied: fonttools>=4.22.0 in /usr/local/lib/python3.12/dist-packages (from matplotlib->roboflow) (4.59.1)\n",
            "Requirement already satisfied: packaging>=20.0 in /usr/local/lib/python3.12/dist-packages (from matplotlib->roboflow) (25.0)\n",
            "Requirement already satisfied: pyparsing>=2.3.1 in /usr/local/lib/python3.12/dist-packages (from matplotlib->roboflow) (3.2.3)\n",
            "Requirement already satisfied: pytz>=2020.1 in /usr/local/lib/python3.12/dist-packages (from pandas>=1.1.4->ultralytics) (2025.2)\n",
            "Requirement already satisfied: tzdata>=2022.7 in /usr/local/lib/python3.12/dist-packages (from pandas>=1.1.4->ultralytics) (2025.2)\n",
            "Requirement already satisfied: charset_normalizer<4,>=2 in /usr/local/lib/python3.12/dist-packages (from requests->roboflow) (3.4.3)\n",
            "Requirement already satisfied: filelock in /usr/local/lib/python3.12/dist-packages (from torch>=1.8.0->ultralytics) (3.19.1)\n",
            "Requirement already satisfied: typing-extensions>=4.10.0 in /usr/local/lib/python3.12/dist-packages (from torch>=1.8.0->ultralytics) (4.14.1)\n",
            "Requirement already satisfied: setuptools in /usr/local/lib/python3.12/dist-packages (from torch>=1.8.0->ultralytics) (75.2.0)\n",
            "Requirement already satisfied: sympy>=1.13.3 in /usr/local/lib/python3.12/dist-packages (from torch>=1.8.0->ultralytics) (1.13.3)\n",
            "Requirement already satisfied: networkx in /usr/local/lib/python3.12/dist-packages (from torch>=1.8.0->ultralytics) (3.5)\n",
            "Requirement already satisfied: jinja2 in /usr/local/lib/python3.12/dist-packages (from torch>=1.8.0->ultralytics) (3.1.6)\n",
            "Requirement already satisfied: fsspec in /usr/local/lib/python3.12/dist-packages (from torch>=1.8.0->ultralytics) (2025.3.0)\n",
            "Requirement already satisfied: nvidia-cuda-nvrtc-cu12==12.6.77 in /usr/local/lib/python3.12/dist-packages (from torch>=1.8.0->ultralytics) (12.6.77)\n",
            "Requirement already satisfied: nvidia-cuda-runtime-cu12==12.6.77 in /usr/local/lib/python3.12/dist-packages (from torch>=1.8.0->ultralytics) (12.6.77)\n",
            "Requirement already satisfied: nvidia-cuda-cupti-cu12==12.6.80 in /usr/local/lib/python3.12/dist-packages (from torch>=1.8.0->ultralytics) (12.6.80)\n",
            "Requirement already satisfied: nvidia-cudnn-cu12==9.10.2.21 in /usr/local/lib/python3.12/dist-packages (from torch>=1.8.0->ultralytics) (9.10.2.21)\n",
            "Requirement already satisfied: nvidia-cublas-cu12==12.6.4.1 in /usr/local/lib/python3.12/dist-packages (from torch>=1.8.0->ultralytics) (12.6.4.1)\n",
            "Requirement already satisfied: nvidia-cufft-cu12==11.3.0.4 in /usr/local/lib/python3.12/dist-packages (from torch>=1.8.0->ultralytics) (11.3.0.4)\n",
            "Requirement already satisfied: nvidia-curand-cu12==10.3.7.77 in /usr/local/lib/python3.12/dist-packages (from torch>=1.8.0->ultralytics) (10.3.7.77)\n",
            "Requirement already satisfied: nvidia-cusolver-cu12==11.7.1.2 in /usr/local/lib/python3.12/dist-packages (from torch>=1.8.0->ultralytics) (11.7.1.2)\n",
            "Requirement already satisfied: nvidia-cusparse-cu12==12.5.4.2 in /usr/local/lib/python3.12/dist-packages (from torch>=1.8.0->ultralytics) (12.5.4.2)\n",
            "Requirement already satisfied: nvidia-cusparselt-cu12==0.7.1 in /usr/local/lib/python3.12/dist-packages (from torch>=1.8.0->ultralytics) (0.7.1)\n",
            "Requirement already satisfied: nvidia-nccl-cu12==2.27.3 in /usr/local/lib/python3.12/dist-packages (from torch>=1.8.0->ultralytics) (2.27.3)\n",
            "Requirement already satisfied: nvidia-nvtx-cu12==12.6.77 in /usr/local/lib/python3.12/dist-packages (from torch>=1.8.0->ultralytics) (12.6.77)\n",
            "Requirement already satisfied: nvidia-nvjitlink-cu12==12.6.85 in /usr/local/lib/python3.12/dist-packages (from torch>=1.8.0->ultralytics) (12.6.85)\n",
            "Requirement already satisfied: nvidia-cufile-cu12==1.11.1.6 in /usr/local/lib/python3.12/dist-packages (from torch>=1.8.0->ultralytics) (1.11.1.6)\n",
            "Requirement already satisfied: triton==3.4.0 in /usr/local/lib/python3.12/dist-packages (from torch>=1.8.0->ultralytics) (3.4.0)\n",
            "Requirement already satisfied: mpmath<1.4,>=1.1.0 in /usr/local/lib/python3.12/dist-packages (from sympy>=1.13.3->torch>=1.8.0->ultralytics) (1.3.0)\n",
            "Requirement already satisfied: MarkupSafe>=2.0 in /usr/local/lib/python3.12/dist-packages (from jinja2->torch>=1.8.0->ultralytics) (3.0.2)\n",
            "Downloading roboflow-1.2.6-py3-none-any.whl (88 kB)\n",
            "\u001b[2K   \u001b[90m━━━━━━━━━━━━━━━━━━━━━━━━━━━━━━━━━━━━━━━━\u001b[0m \u001b[32m88.6/88.6 kB\u001b[0m \u001b[31m6.2 MB/s\u001b[0m eta \u001b[36m0:00:00\u001b[0m\n",
            "\u001b[?25hDownloading idna-3.7-py3-none-any.whl (66 kB)\n",
            "\u001b[2K   \u001b[90m━━━━━━━━━━━━━━━━━━━━━━━━━━━━━━━━━━━━━━━━\u001b[0m \u001b[32m66.8/66.8 kB\u001b[0m \u001b[31m6.2 MB/s\u001b[0m eta \u001b[36m0:00:00\u001b[0m\n",
            "\u001b[?25hDownloading opencv_python_headless-4.10.0.84-cp37-abi3-manylinux_2_17_x86_64.manylinux2014_x86_64.whl (49.9 MB)\n",
            "\u001b[2K   \u001b[90m━━━━━━━━━━━━━━━━━━━━━━━━━━━━━━━━━━━━━━━━\u001b[0m \u001b[32m49.9/49.9 MB\u001b[0m \u001b[31m20.7 MB/s\u001b[0m eta \u001b[36m0:00:00\u001b[0m\n",
            "\u001b[?25hDownloading ultralytics-8.3.184-py3-none-any.whl (1.1 MB)\n",
            "\u001b[2K   \u001b[90m━━━━━━━━━━━━━━━━━━━━━━━━━━━━━━━━━━━━━━━━\u001b[0m \u001b[32m1.1/1.1 MB\u001b[0m \u001b[31m71.2 MB/s\u001b[0m eta \u001b[36m0:00:00\u001b[0m\n",
            "\u001b[?25hDownloading pi_heif-1.1.0-cp312-cp312-manylinux_2_27_x86_64.manylinux_2_28_x86_64.whl (1.4 MB)\n",
            "\u001b[2K   \u001b[90m━━━━━━━━━━━━━━━━━━━━━━━━━━━━━━━━━━━━━━━━\u001b[0m \u001b[32m1.4/1.4 MB\u001b[0m \u001b[31m86.4 MB/s\u001b[0m eta \u001b[36m0:00:00\u001b[0m\n",
            "\u001b[?25hDownloading pillow_avif_plugin-1.5.2-cp312-cp312-manylinux_2_28_x86_64.whl (4.2 MB)\n",
            "\u001b[2K   \u001b[90m━━━━━━━━━━━━━━━━━━━━━━━━━━━━━━━━━━━━━━━━\u001b[0m \u001b[32m4.2/4.2 MB\u001b[0m \u001b[31m112.3 MB/s\u001b[0m eta \u001b[36m0:00:00\u001b[0m\n",
            "\u001b[?25hDownloading ultralytics_thop-2.0.16-py3-none-any.whl (28 kB)\n",
            "Downloading filetype-1.2.0-py2.py3-none-any.whl (19 kB)\n",
            "Installing collected packages: pillow-avif-plugin, filetype, pi-heif, opencv-python-headless, idna, ultralytics-thop, roboflow, ultralytics\n",
            "  Attempting uninstall: opencv-python-headless\n",
            "    Found existing installation: opencv-python-headless 4.12.0.88\n",
            "    Uninstalling opencv-python-headless-4.12.0.88:\n",
            "      Successfully uninstalled opencv-python-headless-4.12.0.88\n",
            "  Attempting uninstall: idna\n",
            "    Found existing installation: idna 3.10\n",
            "    Uninstalling idna-3.10:\n",
            "      Successfully uninstalled idna-3.10\n",
            "Successfully installed filetype-1.2.0 idna-3.7 opencv-python-headless-4.10.0.84 pi-heif-1.1.0 pillow-avif-plugin-1.5.2 roboflow-1.2.6 ultralytics-8.3.184 ultralytics-thop-2.0.16\n",
            "loading Roboflow workspace...\n",
            "loading Roboflow project...\n"
          ]
        },
        {
          "output_type": "stream",
          "name": "stderr",
          "text": [
            "Downloading Dataset Version Zip in glove-30 to yolov8:: 100%|██████████| 646459/646459 [00:09<00:00, 65077.54it/s]"
          ]
        },
        {
          "output_type": "stream",
          "name": "stdout",
          "text": [
            "\n"
          ]
        },
        {
          "output_type": "stream",
          "name": "stderr",
          "text": [
            "\n",
            "Extracting Dataset Version Zip to glove-30 in yolov8:: 100%|██████████| 21203/21203 [00:07<00:00, 2951.67it/s] \n"
          ]
        },
        {
          "output_type": "stream",
          "name": "stdout",
          "text": [
            "Creating new Ultralytics Settings v0.0.6 file ✅ \n",
            "View Ultralytics Settings with 'yolo settings' or at '/root/.config/Ultralytics/settings.json'\n",
            "Update Settings with 'yolo settings key=value', i.e. 'yolo settings runs_dir=path/to/dir'. For help see https://docs.ultralytics.com/quickstart/#ultralytics-settings.\n",
            "Dataset downloaded at: /content/glove-30\n"
          ]
        }
      ]
    },
    {
      "cell_type": "code",
      "source": [
        "from ultralytics import YOLO\n",
        "\n",
        "# load pretrained YOLOv8 (nano version is fastest)\n",
        "model = YOLO(\"yolov8n.pt\")\n"
      ],
      "metadata": {
        "colab": {
          "base_uri": "https://localhost:8080/"
        },
        "id": "efcE-hU34Mn1",
        "outputId": "161dcca3-7856-457c-e548-1e0b8f6dcba3"
      },
      "execution_count": 2,
      "outputs": [
        {
          "output_type": "stream",
          "name": "stderr",
          "text": [
            "Downloading https://github.com/ultralytics/assets/releases/download/v8.3.0/yolov8n.pt to 'yolov8n.pt': 100%|██████████| 6.25M/6.25M [00:00<00:00, 89.1MB/s]\n"
          ]
        }
      ]
    },
    {
      "cell_type": "code",
      "source": [
        "\n",
        "# train\n",
        "model.train(\n",
        "    data=\"/content/glove-30/data.yaml\",  # ✅ correct dataset yaml path\n",
        "    epochs=50,\n",
        "    imgsz=640,\n",
        "    batch=16,\n",
        "    device=0   # use GPU\n",
        ")\n"
      ],
      "metadata": {
        "colab": {
          "base_uri": "https://localhost:8080/"
        },
        "id": "IHYLVSqs5Vlh",
        "outputId": "842f330d-fd26-4357-cb96-e6f6a8cd7581"
      },
      "execution_count": 7,
      "outputs": [
        {
          "output_type": "stream",
          "name": "stdout",
          "text": [
            "Ultralytics 8.3.184 🚀 Python-3.12.11 torch-2.8.0+cu126 CUDA:0 (Tesla T4, 15095MiB)\n",
            "\u001b[34m\u001b[1mengine/trainer: \u001b[0magnostic_nms=False, amp=True, augment=False, auto_augment=randaugment, batch=16, bgr=0.0, box=7.5, cache=False, cfg=None, classes=None, close_mosaic=10, cls=0.5, conf=None, copy_paste=0.0, copy_paste_mode=flip, cos_lr=False, cutmix=0.0, data=/content/glove-30/data.yaml, degrees=0.0, deterministic=True, device=0, dfl=1.5, dnn=False, dropout=0.0, dynamic=False, embed=None, epochs=50, erasing=0.4, exist_ok=False, fliplr=0.5, flipud=0.0, format=torchscript, fraction=1.0, freeze=None, half=False, hsv_h=0.015, hsv_s=0.7, hsv_v=0.4, imgsz=640, int8=False, iou=0.7, keras=False, kobj=1.0, line_width=None, lr0=0.01, lrf=0.01, mask_ratio=4, max_det=300, mixup=0.0, mode=train, model=yolov8n.pt, momentum=0.937, mosaic=1.0, multi_scale=False, name=train5, nbs=64, nms=False, opset=None, optimize=False, optimizer=auto, overlap_mask=True, patience=100, perspective=0.0, plots=True, pose=12.0, pretrained=True, profile=False, project=None, rect=False, resume=False, retina_masks=False, save=True, save_conf=False, save_crop=False, save_dir=runs/detect/train5, save_frames=False, save_json=False, save_period=-1, save_txt=False, scale=0.5, seed=0, shear=0.0, show=False, show_boxes=True, show_conf=True, show_labels=True, simplify=True, single_cls=False, source=None, split=val, stream_buffer=False, task=detect, time=None, tracker=botsort.yaml, translate=0.1, val=True, verbose=True, vid_stride=1, visualize=False, warmup_bias_lr=0.1, warmup_epochs=3.0, warmup_momentum=0.8, weight_decay=0.0005, workers=8, workspace=None\n"
          ]
        },
        {
          "output_type": "stream",
          "name": "stderr",
          "text": [
            "Downloading https://ultralytics.com/assets/Arial.ttf to '/root/.config/Ultralytics/Arial.ttf': 100%|██████████| 755k/755k [00:00<00:00, 20.5MB/s]"
          ]
        },
        {
          "output_type": "stream",
          "name": "stdout",
          "text": [
            "Overriding model.yaml nc=80 with nc=1\n",
            "\n",
            "                   from  n    params  module                                       arguments                     \n",
            "  0                  -1  1       464  ultralytics.nn.modules.conv.Conv             [3, 16, 3, 2]                 \n",
            "  1                  -1  1      4672  ultralytics.nn.modules.conv.Conv             [16, 32, 3, 2]                \n",
            "  2                  -1  1      7360  ultralytics.nn.modules.block.C2f             [32, 32, 1, True]             \n",
            "  3                  -1  1     18560  ultralytics.nn.modules.conv.Conv             [32, 64, 3, 2]                \n",
            "  4                  -1  2     49664  ultralytics.nn.modules.block.C2f             [64, 64, 2, True]             \n",
            "  5                  -1  1     73984  ultralytics.nn.modules.conv.Conv             [64, 128, 3, 2]               \n",
            "  6                  -1  2    197632  ultralytics.nn.modules.block.C2f             [128, 128, 2, True]           \n",
            "  7                  -1  1    295424  ultralytics.nn.modules.conv.Conv             [128, 256, 3, 2]              \n",
            "  8                  -1  1    460288  ultralytics.nn.modules.block.C2f             [256, 256, 1, True]           \n",
            "  9                  -1  1    164608  ultralytics.nn.modules.block.SPPF            [256, 256, 5]                 \n",
            " 10                  -1  1         0  torch.nn.modules.upsampling.Upsample         [None, 2, 'nearest']          \n",
            " 11             [-1, 6]  1         0  ultralytics.nn.modules.conv.Concat           [1]                           \n",
            " 12                  -1  1    148224  ultralytics.nn.modules.block.C2f             [384, 128, 1]                 \n",
            " 13                  -1  1         0  torch.nn.modules.upsampling.Upsample         [None, 2, 'nearest']          \n",
            " 14             [-1, 4]  1         0  ultralytics.nn.modules.conv.Concat           [1]                           \n",
            " 15                  -1  1     37248  ultralytics.nn.modules.block.C2f             [192, 64, 1]                  \n",
            " 16                  -1  1     36992  ultralytics.nn.modules.conv.Conv             [64, 64, 3, 2]                \n",
            " 17            [-1, 12]  1         0  ultralytics.nn.modules.conv.Concat           [1]                           \n",
            " 18                  -1  1    123648  ultralytics.nn.modules.block.C2f             [192, 128, 1]                 \n",
            " 19                  -1  1    147712  ultralytics.nn.modules.conv.Conv             [128, 128, 3, 2]              \n",
            " 20             [-1, 9]  1         0  ultralytics.nn.modules.conv.Concat           [1]                           \n",
            " 21                  -1  1    493056  ultralytics.nn.modules.block.C2f             [384, 256, 1]                 \n",
            " 22        [15, 18, 21]  1    751507  ultralytics.nn.modules.head.Detect           [1, [64, 128, 256]]           \n"
          ]
        },
        {
          "output_type": "stream",
          "name": "stderr",
          "text": [
            "\n"
          ]
        },
        {
          "output_type": "stream",
          "name": "stdout",
          "text": [
            "Model summary: 129 layers, 3,011,043 parameters, 3,011,027 gradients, 8.2 GFLOPs\n",
            "\n",
            "Transferred 319/355 items from pretrained weights\n",
            "Freezing layer 'model.22.dfl.conv.weight'\n",
            "\u001b[34m\u001b[1mAMP: \u001b[0mrunning Automatic Mixed Precision (AMP) checks...\n"
          ]
        },
        {
          "output_type": "stream",
          "name": "stderr",
          "text": [
            "Downloading https://github.com/ultralytics/assets/releases/download/v8.3.0/yolo11n.pt to 'yolo11n.pt': 100%|██████████| 5.35M/5.35M [00:00<00:00, 87.0MB/s]\n"
          ]
        },
        {
          "output_type": "stream",
          "name": "stdout",
          "text": [
            "\u001b[34m\u001b[1mAMP: \u001b[0mchecks passed ✅\n",
            "\u001b[34m\u001b[1mtrain: \u001b[0mFast image access ✅ (ping: 0.0±0.0 ms, read: 1362.7±1118.0 MB/s, size: 62.4 KB)\n"
          ]
        },
        {
          "output_type": "stream",
          "name": "stderr",
          "text": [
            "\u001b[34m\u001b[1mtrain: \u001b[0mScanning /content/glove-30/train/labels... 9769 images, 3 backgrounds, 0 corrupt: 100%|██████████| 9769/9769 [00:04<00:00, 2392.56it/s]"
          ]
        },
        {
          "output_type": "stream",
          "name": "stdout",
          "text": [
            "\u001b[34m\u001b[1mtrain: \u001b[0m/content/glove-30/train/images/images-41-_jpg.rf.9301b90f235e20cd3e7f0e1f9b778187.jpg: 1 duplicate labels removed\n"
          ]
        },
        {
          "output_type": "stream",
          "name": "stderr",
          "text": [
            "\n"
          ]
        },
        {
          "output_type": "stream",
          "name": "stdout",
          "text": [
            "\u001b[34m\u001b[1mtrain: \u001b[0mNew cache created: /content/glove-30/train/labels.cache\n",
            "\u001b[34m\u001b[1malbumentations: \u001b[0mBlur(p=0.01, blur_limit=(3, 7)), MedianBlur(p=0.01, blur_limit=(3, 7)), ToGray(p=0.01, method='weighted_average', num_output_channels=3), CLAHE(p=0.01, clip_limit=(1.0, 4.0), tile_grid_size=(8, 8))\n",
            "\u001b[34m\u001b[1mval: \u001b[0mFast image access ✅ (ping: 0.0±0.0 ms, read: 202.5±116.9 MB/s, size: 9.3 KB)\n"
          ]
        },
        {
          "output_type": "stream",
          "name": "stderr",
          "text": [
            "\u001b[34m\u001b[1mval: \u001b[0mScanning /content/glove-30/valid/labels... 828 images, 0 backgrounds, 0 corrupt: 100%|██████████| 828/828 [00:00<00:00, 1638.35it/s]\n"
          ]
        },
        {
          "output_type": "stream",
          "name": "stdout",
          "text": [
            "\u001b[34m\u001b[1mval: \u001b[0mNew cache created: /content/glove-30/valid/labels.cache\n",
            "Plotting labels to runs/detect/train5/labels.jpg... \n",
            "\u001b[34m\u001b[1moptimizer:\u001b[0m 'optimizer=auto' found, ignoring 'lr0=0.01' and 'momentum=0.937' and determining best 'optimizer', 'lr0' and 'momentum' automatically... \n",
            "\u001b[34m\u001b[1moptimizer:\u001b[0m AdamW(lr=0.002, momentum=0.9) with parameter groups 57 weight(decay=0.0), 64 weight(decay=0.0005), 63 bias(decay=0.0)\n",
            "Image sizes 640 train, 640 val\n",
            "Using 2 dataloader workers\n",
            "Logging results to \u001b[1mruns/detect/train5\u001b[0m\n",
            "Starting training for 50 epochs...\n",
            "\n",
            "      Epoch    GPU_mem   box_loss   cls_loss   dfl_loss  Instances       Size\n"
          ]
        },
        {
          "output_type": "stream",
          "name": "stderr",
          "text": [
            "       1/50      2.35G      1.227      1.317       1.48         65        640: 100%|██████████| 611/611 [03:03<00:00,  3.32it/s]\n",
            "                 Class     Images  Instances      Box(P          R      mAP50  mAP50-95): 100%|██████████| 26/26 [00:07<00:00,  3.58it/s]"
          ]
        },
        {
          "output_type": "stream",
          "name": "stdout",
          "text": [
            "                   all        828       1775      0.847      0.813       0.89      0.584\n"
          ]
        },
        {
          "output_type": "stream",
          "name": "stderr",
          "text": [
            "\n"
          ]
        },
        {
          "output_type": "stream",
          "name": "stdout",
          "text": [
            "\n",
            "      Epoch    GPU_mem   box_loss   cls_loss   dfl_loss  Instances       Size\n"
          ]
        },
        {
          "output_type": "stream",
          "name": "stderr",
          "text": [
            "       2/50      2.88G      1.252      1.101      1.495         28        640: 100%|██████████| 611/611 [02:58<00:00,  3.42it/s]\n",
            "                 Class     Images  Instances      Box(P          R      mAP50  mAP50-95): 100%|██████████| 26/26 [00:06<00:00,  3.87it/s]"
          ]
        },
        {
          "output_type": "stream",
          "name": "stdout",
          "text": [
            "                   all        828       1775      0.813      0.695      0.814      0.443\n"
          ]
        },
        {
          "output_type": "stream",
          "name": "stderr",
          "text": [
            "\n"
          ]
        },
        {
          "output_type": "stream",
          "name": "stdout",
          "text": [
            "\n",
            "      Epoch    GPU_mem   box_loss   cls_loss   dfl_loss  Instances       Size\n"
          ]
        },
        {
          "output_type": "stream",
          "name": "stderr",
          "text": [
            "       3/50      2.89G      1.229      1.047      1.476         59        640: 100%|██████████| 611/611 [02:55<00:00,  3.47it/s]\n",
            "                 Class     Images  Instances      Box(P          R      mAP50  mAP50-95): 100%|██████████| 26/26 [00:06<00:00,  3.88it/s]\n"
          ]
        },
        {
          "output_type": "stream",
          "name": "stdout",
          "text": [
            "                   all        828       1775       0.84      0.821      0.898      0.605\n",
            "\n",
            "      Epoch    GPU_mem   box_loss   cls_loss   dfl_loss  Instances       Size\n"
          ]
        },
        {
          "output_type": "stream",
          "name": "stderr",
          "text": [
            "       4/50      2.91G      1.183     0.9906      1.451         25        640: 100%|██████████| 611/611 [02:54<00:00,  3.50it/s]\n",
            "                 Class     Images  Instances      Box(P          R      mAP50  mAP50-95): 100%|██████████| 26/26 [00:05<00:00,  4.37it/s]"
          ]
        },
        {
          "output_type": "stream",
          "name": "stdout",
          "text": [
            "                   all        828       1775      0.909       0.82      0.922      0.633\n"
          ]
        },
        {
          "output_type": "stream",
          "name": "stderr",
          "text": [
            "\n"
          ]
        },
        {
          "output_type": "stream",
          "name": "stdout",
          "text": [
            "\n",
            "      Epoch    GPU_mem   box_loss   cls_loss   dfl_loss  Instances       Size\n"
          ]
        },
        {
          "output_type": "stream",
          "name": "stderr",
          "text": [
            "       5/50      2.93G      1.141     0.9236      1.415         30        640: 100%|██████████| 611/611 [02:54<00:00,  3.51it/s]\n",
            "                 Class     Images  Instances      Box(P          R      mAP50  mAP50-95): 100%|██████████| 26/26 [00:05<00:00,  4.49it/s]"
          ]
        },
        {
          "output_type": "stream",
          "name": "stdout",
          "text": [
            "                   all        828       1775      0.933      0.861      0.949      0.708\n"
          ]
        },
        {
          "output_type": "stream",
          "name": "stderr",
          "text": [
            "\n"
          ]
        },
        {
          "output_type": "stream",
          "name": "stdout",
          "text": [
            "\n",
            "      Epoch    GPU_mem   box_loss   cls_loss   dfl_loss  Instances       Size\n"
          ]
        },
        {
          "output_type": "stream",
          "name": "stderr",
          "text": [
            "       6/50      2.95G      1.088     0.8692      1.381         35        640: 100%|██████████| 611/611 [02:53<00:00,  3.51it/s]\n",
            "                 Class     Images  Instances      Box(P          R      mAP50  mAP50-95): 100%|██████████| 26/26 [00:06<00:00,  4.31it/s]\n"
          ]
        },
        {
          "output_type": "stream",
          "name": "stdout",
          "text": [
            "                   all        828       1775      0.935      0.877      0.954      0.695\n",
            "\n",
            "      Epoch    GPU_mem   box_loss   cls_loss   dfl_loss  Instances       Size\n"
          ]
        },
        {
          "output_type": "stream",
          "name": "stderr",
          "text": [
            "       7/50      2.96G      1.064     0.8391      1.365         39        640: 100%|██████████| 611/611 [02:55<00:00,  3.48it/s]\n",
            "                 Class     Images  Instances      Box(P          R      mAP50  mAP50-95): 100%|██████████| 26/26 [00:06<00:00,  3.89it/s]"
          ]
        },
        {
          "output_type": "stream",
          "name": "stdout",
          "text": [
            "                   all        828       1775      0.926      0.883      0.955      0.719\n"
          ]
        },
        {
          "output_type": "stream",
          "name": "stderr",
          "text": [
            "\n"
          ]
        },
        {
          "output_type": "stream",
          "name": "stdout",
          "text": [
            "\n",
            "      Epoch    GPU_mem   box_loss   cls_loss   dfl_loss  Instances       Size\n"
          ]
        },
        {
          "output_type": "stream",
          "name": "stderr",
          "text": [
            "       8/50      2.98G      1.041     0.8054      1.348         26        640: 100%|██████████| 611/611 [02:53<00:00,  3.52it/s]\n",
            "                 Class     Images  Instances      Box(P          R      mAP50  mAP50-95): 100%|██████████| 26/26 [00:06<00:00,  3.75it/s]"
          ]
        },
        {
          "output_type": "stream",
          "name": "stdout",
          "text": [
            "                   all        828       1775      0.942       0.89      0.966      0.734\n"
          ]
        },
        {
          "output_type": "stream",
          "name": "stderr",
          "text": [
            "\n"
          ]
        },
        {
          "output_type": "stream",
          "name": "stdout",
          "text": [
            "\n",
            "      Epoch    GPU_mem   box_loss   cls_loss   dfl_loss  Instances       Size\n"
          ]
        },
        {
          "output_type": "stream",
          "name": "stderr",
          "text": [
            "       9/50      3.21G      1.022      0.785      1.337         35        640: 100%|██████████| 611/611 [02:54<00:00,  3.50it/s]\n",
            "                 Class     Images  Instances      Box(P          R      mAP50  mAP50-95): 100%|██████████| 26/26 [00:06<00:00,  4.07it/s]\n"
          ]
        },
        {
          "output_type": "stream",
          "name": "stdout",
          "text": [
            "                   all        828       1775      0.941      0.878      0.953      0.713\n",
            "\n",
            "      Epoch    GPU_mem   box_loss   cls_loss   dfl_loss  Instances       Size\n"
          ]
        },
        {
          "output_type": "stream",
          "name": "stderr",
          "text": [
            "      10/50      3.22G      1.008     0.7642      1.325         40        640: 100%|██████████| 611/611 [02:55<00:00,  3.48it/s]\n",
            "                 Class     Images  Instances      Box(P          R      mAP50  mAP50-95): 100%|██████████| 26/26 [00:05<00:00,  4.51it/s]"
          ]
        },
        {
          "output_type": "stream",
          "name": "stdout",
          "text": [
            "                   all        828       1775      0.954      0.894      0.963      0.723\n"
          ]
        },
        {
          "output_type": "stream",
          "name": "stderr",
          "text": [
            "\n"
          ]
        },
        {
          "output_type": "stream",
          "name": "stdout",
          "text": [
            "\n",
            "      Epoch    GPU_mem   box_loss   cls_loss   dfl_loss  Instances       Size\n"
          ]
        },
        {
          "output_type": "stream",
          "name": "stderr",
          "text": [
            "      11/50      3.23G     0.9933     0.7423      1.314         30        640: 100%|██████████| 611/611 [02:56<00:00,  3.47it/s]\n",
            "                 Class     Images  Instances      Box(P          R      mAP50  mAP50-95): 100%|██████████| 26/26 [00:06<00:00,  3.93it/s]"
          ]
        },
        {
          "output_type": "stream",
          "name": "stdout",
          "text": [
            "                   all        828       1775      0.951      0.904      0.971      0.743\n"
          ]
        },
        {
          "output_type": "stream",
          "name": "stderr",
          "text": [
            "\n"
          ]
        },
        {
          "output_type": "stream",
          "name": "stdout",
          "text": [
            "\n",
            "      Epoch    GPU_mem   box_loss   cls_loss   dfl_loss  Instances       Size\n"
          ]
        },
        {
          "output_type": "stream",
          "name": "stderr",
          "text": [
            "      12/50      3.26G     0.9746     0.7197      1.299         42        640: 100%|██████████| 611/611 [02:52<00:00,  3.54it/s]\n",
            "                 Class     Images  Instances      Box(P          R      mAP50  mAP50-95): 100%|██████████| 26/26 [00:06<00:00,  3.93it/s]"
          ]
        },
        {
          "output_type": "stream",
          "name": "stdout",
          "text": [
            "                   all        828       1775      0.942      0.904      0.967      0.731\n"
          ]
        },
        {
          "output_type": "stream",
          "name": "stderr",
          "text": [
            "\n"
          ]
        },
        {
          "output_type": "stream",
          "name": "stdout",
          "text": [
            "\n",
            "      Epoch    GPU_mem   box_loss   cls_loss   dfl_loss  Instances       Size\n"
          ]
        },
        {
          "output_type": "stream",
          "name": "stderr",
          "text": [
            "      13/50      3.28G     0.9713     0.7136      1.302         30        640: 100%|██████████| 611/611 [02:52<00:00,  3.53it/s]\n",
            "                 Class     Images  Instances      Box(P          R      mAP50  mAP50-95): 100%|██████████| 26/26 [00:06<00:00,  3.78it/s]"
          ]
        },
        {
          "output_type": "stream",
          "name": "stdout",
          "text": [
            "                   all        828       1775      0.953      0.903      0.967      0.746\n"
          ]
        },
        {
          "output_type": "stream",
          "name": "stderr",
          "text": [
            "\n"
          ]
        },
        {
          "output_type": "stream",
          "name": "stdout",
          "text": [
            "\n",
            "      Epoch    GPU_mem   box_loss   cls_loss   dfl_loss  Instances       Size\n"
          ]
        },
        {
          "output_type": "stream",
          "name": "stderr",
          "text": [
            "      14/50      3.29G     0.9596     0.7033      1.298         30        640: 100%|██████████| 611/611 [02:54<00:00,  3.51it/s]\n",
            "                 Class     Images  Instances      Box(P          R      mAP50  mAP50-95): 100%|██████████| 26/26 [00:05<00:00,  4.35it/s]"
          ]
        },
        {
          "output_type": "stream",
          "name": "stdout",
          "text": [
            "                   all        828       1775      0.953       0.91      0.969      0.773\n"
          ]
        },
        {
          "output_type": "stream",
          "name": "stderr",
          "text": [
            "\n"
          ]
        },
        {
          "output_type": "stream",
          "name": "stdout",
          "text": [
            "\n",
            "      Epoch    GPU_mem   box_loss   cls_loss   dfl_loss  Instances       Size\n"
          ]
        },
        {
          "output_type": "stream",
          "name": "stderr",
          "text": [
            "      15/50       3.3G     0.9449     0.6765      1.281         56        640: 100%|██████████| 611/611 [02:54<00:00,  3.50it/s]\n",
            "                 Class     Images  Instances      Box(P          R      mAP50  mAP50-95): 100%|██████████| 26/26 [00:06<00:00,  4.33it/s]\n"
          ]
        },
        {
          "output_type": "stream",
          "name": "stdout",
          "text": [
            "                   all        828       1775      0.958      0.909      0.972      0.765\n",
            "\n",
            "      Epoch    GPU_mem   box_loss   cls_loss   dfl_loss  Instances       Size\n"
          ]
        },
        {
          "output_type": "stream",
          "name": "stderr",
          "text": [
            "      16/50      3.32G     0.9356     0.6728      1.275         24        640: 100%|██████████| 611/611 [02:55<00:00,  3.49it/s]\n",
            "                 Class     Images  Instances      Box(P          R      mAP50  mAP50-95): 100%|██████████| 26/26 [00:05<00:00,  4.42it/s]\n"
          ]
        },
        {
          "output_type": "stream",
          "name": "stdout",
          "text": [
            "                   all        828       1775      0.946      0.924      0.976      0.766\n",
            "\n",
            "      Epoch    GPU_mem   box_loss   cls_loss   dfl_loss  Instances       Size\n"
          ]
        },
        {
          "output_type": "stream",
          "name": "stderr",
          "text": [
            "      17/50      3.34G     0.9287     0.6567      1.268         41        640: 100%|██████████| 611/611 [02:56<00:00,  3.46it/s]\n",
            "                 Class     Images  Instances      Box(P          R      mAP50  mAP50-95): 100%|██████████| 26/26 [00:06<00:00,  3.85it/s]"
          ]
        },
        {
          "output_type": "stream",
          "name": "stdout",
          "text": [
            "                   all        828       1775      0.958      0.915      0.971      0.775\n"
          ]
        },
        {
          "output_type": "stream",
          "name": "stderr",
          "text": [
            "\n"
          ]
        },
        {
          "output_type": "stream",
          "name": "stdout",
          "text": [
            "\n",
            "      Epoch    GPU_mem   box_loss   cls_loss   dfl_loss  Instances       Size\n"
          ]
        },
        {
          "output_type": "stream",
          "name": "stderr",
          "text": [
            "      18/50      3.36G     0.9155     0.6457      1.262         38        640: 100%|██████████| 611/611 [02:56<00:00,  3.45it/s]\n",
            "                 Class     Images  Instances      Box(P          R      mAP50  mAP50-95): 100%|██████████| 26/26 [00:05<00:00,  4.38it/s]"
          ]
        },
        {
          "output_type": "stream",
          "name": "stdout",
          "text": [
            "                   all        828       1775      0.966      0.908      0.974      0.788\n"
          ]
        },
        {
          "output_type": "stream",
          "name": "stderr",
          "text": [
            "\n"
          ]
        },
        {
          "output_type": "stream",
          "name": "stdout",
          "text": [
            "\n",
            "      Epoch    GPU_mem   box_loss   cls_loss   dfl_loss  Instances       Size\n"
          ]
        },
        {
          "output_type": "stream",
          "name": "stderr",
          "text": [
            "      19/50      3.37G     0.9095     0.6341      1.255         46        640: 100%|██████████| 611/611 [02:54<00:00,  3.49it/s]\n",
            "                 Class     Images  Instances      Box(P          R      mAP50  mAP50-95): 100%|██████████| 26/26 [00:05<00:00,  4.52it/s]"
          ]
        },
        {
          "output_type": "stream",
          "name": "stdout",
          "text": [
            "                   all        828       1775      0.959      0.917      0.977       0.78\n"
          ]
        },
        {
          "output_type": "stream",
          "name": "stderr",
          "text": [
            "\n"
          ]
        },
        {
          "output_type": "stream",
          "name": "stdout",
          "text": [
            "\n",
            "      Epoch    GPU_mem   box_loss   cls_loss   dfl_loss  Instances       Size\n"
          ]
        },
        {
          "output_type": "stream",
          "name": "stderr",
          "text": [
            "      20/50      3.39G     0.8943     0.6275       1.25         39        640: 100%|██████████| 611/611 [02:54<00:00,  3.51it/s]\n",
            "                 Class     Images  Instances      Box(P          R      mAP50  mAP50-95): 100%|██████████| 26/26 [00:06<00:00,  4.06it/s]"
          ]
        },
        {
          "output_type": "stream",
          "name": "stdout",
          "text": [
            "                   all        828       1775      0.958      0.927      0.975      0.786\n"
          ]
        },
        {
          "output_type": "stream",
          "name": "stderr",
          "text": [
            "\n"
          ]
        },
        {
          "output_type": "stream",
          "name": "stdout",
          "text": [
            "\n",
            "      Epoch    GPU_mem   box_loss   cls_loss   dfl_loss  Instances       Size\n"
          ]
        },
        {
          "output_type": "stream",
          "name": "stderr",
          "text": [
            "      21/50      3.41G     0.8906     0.6242      1.244         52        640: 100%|██████████| 611/611 [02:53<00:00,  3.52it/s]\n",
            "                 Class     Images  Instances      Box(P          R      mAP50  mAP50-95): 100%|██████████| 26/26 [00:06<00:00,  3.81it/s]"
          ]
        },
        {
          "output_type": "stream",
          "name": "stdout",
          "text": [
            "                   all        828       1775       0.96      0.917      0.973      0.788\n"
          ]
        },
        {
          "output_type": "stream",
          "name": "stderr",
          "text": [
            "\n"
          ]
        },
        {
          "output_type": "stream",
          "name": "stdout",
          "text": [
            "\n",
            "      Epoch    GPU_mem   box_loss   cls_loss   dfl_loss  Instances       Size\n"
          ]
        },
        {
          "output_type": "stream",
          "name": "stderr",
          "text": [
            "      22/50      3.43G     0.8779     0.6077      1.234         43        640: 100%|██████████| 611/611 [02:53<00:00,  3.52it/s]\n",
            "                 Class     Images  Instances      Box(P          R      mAP50  mAP50-95): 100%|██████████| 26/26 [00:06<00:00,  3.93it/s]"
          ]
        },
        {
          "output_type": "stream",
          "name": "stdout",
          "text": [
            "                   all        828       1775      0.964      0.931      0.979      0.793\n"
          ]
        },
        {
          "output_type": "stream",
          "name": "stderr",
          "text": [
            "\n"
          ]
        },
        {
          "output_type": "stream",
          "name": "stdout",
          "text": [
            "\n",
            "      Epoch    GPU_mem   box_loss   cls_loss   dfl_loss  Instances       Size\n"
          ]
        },
        {
          "output_type": "stream",
          "name": "stderr",
          "text": [
            "      23/50      3.44G     0.8737     0.6037      1.232         42        640: 100%|██████████| 611/611 [02:52<00:00,  3.54it/s]\n",
            "                 Class     Images  Instances      Box(P          R      mAP50  mAP50-95): 100%|██████████| 26/26 [00:06<00:00,  3.84it/s]"
          ]
        },
        {
          "output_type": "stream",
          "name": "stdout",
          "text": [
            "                   all        828       1775      0.955      0.939      0.978      0.795\n"
          ]
        },
        {
          "output_type": "stream",
          "name": "stderr",
          "text": [
            "\n"
          ]
        },
        {
          "output_type": "stream",
          "name": "stdout",
          "text": [
            "\n",
            "      Epoch    GPU_mem   box_loss   cls_loss   dfl_loss  Instances       Size\n"
          ]
        },
        {
          "output_type": "stream",
          "name": "stderr",
          "text": [
            "      24/50      3.46G     0.8724     0.5965       1.23         33        640: 100%|██████████| 611/611 [02:57<00:00,  3.44it/s]\n",
            "                 Class     Images  Instances      Box(P          R      mAP50  mAP50-95): 100%|██████████| 26/26 [00:05<00:00,  4.58it/s]"
          ]
        },
        {
          "output_type": "stream",
          "name": "stdout",
          "text": [
            "                   all        828       1775      0.962      0.921      0.975      0.787\n"
          ]
        },
        {
          "output_type": "stream",
          "name": "stderr",
          "text": [
            "\n"
          ]
        },
        {
          "output_type": "stream",
          "name": "stdout",
          "text": [
            "\n",
            "      Epoch    GPU_mem   box_loss   cls_loss   dfl_loss  Instances       Size\n"
          ]
        },
        {
          "output_type": "stream",
          "name": "stderr",
          "text": [
            "      25/50      3.48G     0.8584     0.5829      1.221         26        640: 100%|██████████| 611/611 [02:55<00:00,  3.49it/s]\n",
            "                 Class     Images  Instances      Box(P          R      mAP50  mAP50-95): 100%|██████████| 26/26 [00:06<00:00,  3.94it/s]"
          ]
        },
        {
          "output_type": "stream",
          "name": "stdout",
          "text": [
            "                   all        828       1775      0.958      0.931      0.979      0.795\n"
          ]
        },
        {
          "output_type": "stream",
          "name": "stderr",
          "text": [
            "\n"
          ]
        },
        {
          "output_type": "stream",
          "name": "stdout",
          "text": [
            "\n",
            "      Epoch    GPU_mem   box_loss   cls_loss   dfl_loss  Instances       Size\n"
          ]
        },
        {
          "output_type": "stream",
          "name": "stderr",
          "text": [
            "      26/50       3.5G     0.8578     0.5851      1.223         53        640: 100%|██████████| 611/611 [02:54<00:00,  3.49it/s]\n",
            "                 Class     Images  Instances      Box(P          R      mAP50  mAP50-95): 100%|██████████| 26/26 [00:06<00:00,  3.74it/s]"
          ]
        },
        {
          "output_type": "stream",
          "name": "stdout",
          "text": [
            "                   all        828       1775       0.97      0.934      0.979      0.798\n"
          ]
        },
        {
          "output_type": "stream",
          "name": "stderr",
          "text": [
            "\n"
          ]
        },
        {
          "output_type": "stream",
          "name": "stdout",
          "text": [
            "\n",
            "      Epoch    GPU_mem   box_loss   cls_loss   dfl_loss  Instances       Size\n"
          ]
        },
        {
          "output_type": "stream",
          "name": "stderr",
          "text": [
            "      27/50      3.51G     0.8482     0.5752      1.214         28        640: 100%|██████████| 611/611 [02:57<00:00,  3.44it/s]\n",
            "                 Class     Images  Instances      Box(P          R      mAP50  mAP50-95): 100%|██████████| 26/26 [00:05<00:00,  4.46it/s]"
          ]
        },
        {
          "output_type": "stream",
          "name": "stdout",
          "text": [
            "                   all        828       1775      0.965      0.928      0.975      0.796\n"
          ]
        },
        {
          "output_type": "stream",
          "name": "stderr",
          "text": [
            "\n"
          ]
        },
        {
          "output_type": "stream",
          "name": "stdout",
          "text": [
            "\n",
            "      Epoch    GPU_mem   box_loss   cls_loss   dfl_loss  Instances       Size\n"
          ]
        },
        {
          "output_type": "stream",
          "name": "stderr",
          "text": [
            "      28/50      3.53G     0.8389     0.5664      1.211         29        640: 100%|██████████| 611/611 [02:56<00:00,  3.47it/s]\n",
            "                 Class     Images  Instances      Box(P          R      mAP50  mAP50-95): 100%|██████████| 26/26 [00:06<00:00,  4.02it/s]"
          ]
        },
        {
          "output_type": "stream",
          "name": "stdout",
          "text": [
            "                   all        828       1775      0.964      0.933      0.978      0.799\n"
          ]
        },
        {
          "output_type": "stream",
          "name": "stderr",
          "text": [
            "\n"
          ]
        },
        {
          "output_type": "stream",
          "name": "stdout",
          "text": [
            "\n",
            "      Epoch    GPU_mem   box_loss   cls_loss   dfl_loss  Instances       Size\n"
          ]
        },
        {
          "output_type": "stream",
          "name": "stderr",
          "text": [
            "      29/50      3.55G     0.8377     0.5605      1.208         62        640: 100%|██████████| 611/611 [02:56<00:00,  3.46it/s]\n",
            "                 Class     Images  Instances      Box(P          R      mAP50  mAP50-95): 100%|██████████| 26/26 [00:06<00:00,  3.77it/s]"
          ]
        },
        {
          "output_type": "stream",
          "name": "stdout",
          "text": [
            "                   all        828       1775      0.964      0.942       0.98      0.803\n"
          ]
        },
        {
          "output_type": "stream",
          "name": "stderr",
          "text": [
            "\n"
          ]
        },
        {
          "output_type": "stream",
          "name": "stdout",
          "text": [
            "\n",
            "      Epoch    GPU_mem   box_loss   cls_loss   dfl_loss  Instances       Size\n"
          ]
        },
        {
          "output_type": "stream",
          "name": "stderr",
          "text": [
            "      30/50      3.56G     0.8356     0.5621       1.21         40        640: 100%|██████████| 611/611 [02:59<00:00,  3.40it/s]\n",
            "                 Class     Images  Instances      Box(P          R      mAP50  mAP50-95): 100%|██████████| 26/26 [00:06<00:00,  3.99it/s]"
          ]
        },
        {
          "output_type": "stream",
          "name": "stdout",
          "text": [
            "                   all        828       1775      0.969      0.937      0.984       0.81\n"
          ]
        },
        {
          "output_type": "stream",
          "name": "stderr",
          "text": [
            "\n"
          ]
        },
        {
          "output_type": "stream",
          "name": "stdout",
          "text": [
            "\n",
            "      Epoch    GPU_mem   box_loss   cls_loss   dfl_loss  Instances       Size\n"
          ]
        },
        {
          "output_type": "stream",
          "name": "stderr",
          "text": [
            "      31/50      3.57G     0.8278     0.5545      1.204         53        640: 100%|██████████| 611/611 [02:56<00:00,  3.46it/s]\n",
            "                 Class     Images  Instances      Box(P          R      mAP50  mAP50-95): 100%|██████████| 26/26 [00:06<00:00,  3.92it/s]"
          ]
        },
        {
          "output_type": "stream",
          "name": "stdout",
          "text": [
            "                   all        828       1775      0.965      0.937       0.98      0.806\n"
          ]
        },
        {
          "output_type": "stream",
          "name": "stderr",
          "text": [
            "\n"
          ]
        },
        {
          "output_type": "stream",
          "name": "stdout",
          "text": [
            "\n",
            "      Epoch    GPU_mem   box_loss   cls_loss   dfl_loss  Instances       Size\n"
          ]
        },
        {
          "output_type": "stream",
          "name": "stderr",
          "text": [
            "      32/50       3.6G     0.8231     0.5399      1.196         47        640: 100%|██████████| 611/611 [02:55<00:00,  3.49it/s]\n",
            "                 Class     Images  Instances      Box(P          R      mAP50  mAP50-95): 100%|██████████| 26/26 [00:05<00:00,  4.49it/s]"
          ]
        },
        {
          "output_type": "stream",
          "name": "stdout",
          "text": [
            "                   all        828       1775      0.969      0.935      0.982      0.808\n"
          ]
        },
        {
          "output_type": "stream",
          "name": "stderr",
          "text": [
            "\n"
          ]
        },
        {
          "output_type": "stream",
          "name": "stdout",
          "text": [
            "\n",
            "      Epoch    GPU_mem   box_loss   cls_loss   dfl_loss  Instances       Size\n"
          ]
        },
        {
          "output_type": "stream",
          "name": "stderr",
          "text": [
            "      33/50      3.62G     0.8127     0.5376      1.191         42        640: 100%|██████████| 611/611 [02:55<00:00,  3.49it/s]\n",
            "                 Class     Images  Instances      Box(P          R      mAP50  mAP50-95): 100%|██████████| 26/26 [00:05<00:00,  4.55it/s]"
          ]
        },
        {
          "output_type": "stream",
          "name": "stdout",
          "text": [
            "                   all        828       1775      0.949      0.947      0.982       0.81\n"
          ]
        },
        {
          "output_type": "stream",
          "name": "stderr",
          "text": [
            "\n"
          ]
        },
        {
          "output_type": "stream",
          "name": "stdout",
          "text": [
            "\n",
            "      Epoch    GPU_mem   box_loss   cls_loss   dfl_loss  Instances       Size\n"
          ]
        },
        {
          "output_type": "stream",
          "name": "stderr",
          "text": [
            "      34/50      3.63G     0.8071     0.5321      1.182         39        640: 100%|██████████| 611/611 [02:55<00:00,  3.48it/s]\n",
            "                 Class     Images  Instances      Box(P          R      mAP50  mAP50-95): 100%|██████████| 26/26 [00:06<00:00,  3.91it/s]"
          ]
        },
        {
          "output_type": "stream",
          "name": "stdout",
          "text": [
            "                   all        828       1775       0.97      0.937       0.98      0.807\n"
          ]
        },
        {
          "output_type": "stream",
          "name": "stderr",
          "text": [
            "\n"
          ]
        },
        {
          "output_type": "stream",
          "name": "stdout",
          "text": [
            "\n",
            "      Epoch    GPU_mem   box_loss   cls_loss   dfl_loss  Instances       Size\n"
          ]
        },
        {
          "output_type": "stream",
          "name": "stderr",
          "text": [
            "      35/50      3.64G     0.7983     0.5207      1.182         30        640: 100%|██████████| 611/611 [02:55<00:00,  3.48it/s]\n",
            "                 Class     Images  Instances      Box(P          R      mAP50  mAP50-95): 100%|██████████| 26/26 [00:06<00:00,  3.84it/s]"
          ]
        },
        {
          "output_type": "stream",
          "name": "stdout",
          "text": [
            "                   all        828       1775      0.963      0.942      0.981      0.811\n"
          ]
        },
        {
          "output_type": "stream",
          "name": "stderr",
          "text": [
            "\n"
          ]
        },
        {
          "output_type": "stream",
          "name": "stdout",
          "text": [
            "\n",
            "      Epoch    GPU_mem   box_loss   cls_loss   dfl_loss  Instances       Size\n"
          ]
        },
        {
          "output_type": "stream",
          "name": "stderr",
          "text": [
            "      36/50      3.67G     0.7952     0.5178      1.178         33        640: 100%|██████████| 611/611 [02:57<00:00,  3.44it/s]\n",
            "                 Class     Images  Instances      Box(P          R      mAP50  mAP50-95): 100%|██████████| 26/26 [00:05<00:00,  4.57it/s]"
          ]
        },
        {
          "output_type": "stream",
          "name": "stdout",
          "text": [
            "                   all        828       1775      0.965      0.937      0.981      0.813\n"
          ]
        },
        {
          "output_type": "stream",
          "name": "stderr",
          "text": [
            "\n"
          ]
        },
        {
          "output_type": "stream",
          "name": "stdout",
          "text": [
            "\n",
            "      Epoch    GPU_mem   box_loss   cls_loss   dfl_loss  Instances       Size\n"
          ]
        },
        {
          "output_type": "stream",
          "name": "stderr",
          "text": [
            "      37/50      3.68G     0.7939     0.5168      1.183         44        640: 100%|██████████| 611/611 [03:00<00:00,  3.39it/s]\n",
            "                 Class     Images  Instances      Box(P          R      mAP50  mAP50-95): 100%|██████████| 26/26 [00:06<00:00,  3.75it/s]"
          ]
        },
        {
          "output_type": "stream",
          "name": "stdout",
          "text": [
            "                   all        828       1775      0.968      0.942      0.981      0.813\n"
          ]
        },
        {
          "output_type": "stream",
          "name": "stderr",
          "text": [
            "\n"
          ]
        },
        {
          "output_type": "stream",
          "name": "stdout",
          "text": [
            "\n",
            "      Epoch    GPU_mem   box_loss   cls_loss   dfl_loss  Instances       Size\n"
          ]
        },
        {
          "output_type": "stream",
          "name": "stderr",
          "text": [
            "      38/50       3.7G     0.7806     0.5067      1.173         52        640: 100%|██████████| 611/611 [02:56<00:00,  3.46it/s]\n",
            "                 Class     Images  Instances      Box(P          R      mAP50  mAP50-95): 100%|██████████| 26/26 [00:05<00:00,  4.39it/s]"
          ]
        },
        {
          "output_type": "stream",
          "name": "stdout",
          "text": [
            "                   all        828       1775      0.967      0.936      0.982      0.817\n"
          ]
        },
        {
          "output_type": "stream",
          "name": "stderr",
          "text": [
            "\n"
          ]
        },
        {
          "output_type": "stream",
          "name": "stdout",
          "text": [
            "\n",
            "      Epoch    GPU_mem   box_loss   cls_loss   dfl_loss  Instances       Size\n"
          ]
        },
        {
          "output_type": "stream",
          "name": "stderr",
          "text": [
            "      39/50      3.71G     0.7752      0.499      1.165         30        640: 100%|██████████| 611/611 [02:55<00:00,  3.49it/s]\n",
            "                 Class     Images  Instances      Box(P          R      mAP50  mAP50-95): 100%|██████████| 26/26 [00:05<00:00,  4.56it/s]"
          ]
        },
        {
          "output_type": "stream",
          "name": "stdout",
          "text": [
            "                   all        828       1775      0.958      0.951      0.984      0.819\n"
          ]
        },
        {
          "output_type": "stream",
          "name": "stderr",
          "text": [
            "\n"
          ]
        },
        {
          "output_type": "stream",
          "name": "stdout",
          "text": [
            "\n",
            "      Epoch    GPU_mem   box_loss   cls_loss   dfl_loss  Instances       Size\n"
          ]
        },
        {
          "output_type": "stream",
          "name": "stderr",
          "text": [
            "      40/50      3.73G     0.7659     0.4905      1.157         34        640: 100%|██████████| 611/611 [02:55<00:00,  3.48it/s]\n",
            "                 Class     Images  Instances      Box(P          R      mAP50  mAP50-95): 100%|██████████| 26/26 [00:06<00:00,  3.92it/s]"
          ]
        },
        {
          "output_type": "stream",
          "name": "stdout",
          "text": [
            "                   all        828       1775      0.974      0.937      0.981      0.818\n"
          ]
        },
        {
          "output_type": "stream",
          "name": "stderr",
          "text": [
            "\n"
          ]
        },
        {
          "output_type": "stream",
          "name": "stdout",
          "text": [
            "Closing dataloader mosaic\n",
            "\u001b[34m\u001b[1malbumentations: \u001b[0mBlur(p=0.01, blur_limit=(3, 7)), MedianBlur(p=0.01, blur_limit=(3, 7)), ToGray(p=0.01, method='weighted_average', num_output_channels=3), CLAHE(p=0.01, clip_limit=(1.0, 4.0), tile_grid_size=(8, 8))\n",
            "\n",
            "      Epoch    GPU_mem   box_loss   cls_loss   dfl_loss  Instances       Size\n"
          ]
        },
        {
          "output_type": "stream",
          "name": "stderr",
          "text": [
            "      41/50      3.75G        0.7     0.3783      1.165         15        640: 100%|██████████| 611/611 [02:49<00:00,  3.60it/s]\n",
            "                 Class     Images  Instances      Box(P          R      mAP50  mAP50-95): 100%|██████████| 26/26 [00:05<00:00,  4.42it/s]\n"
          ]
        },
        {
          "output_type": "stream",
          "name": "stdout",
          "text": [
            "                   all        828       1775      0.963      0.944       0.98      0.814\n",
            "\n",
            "      Epoch    GPU_mem   box_loss   cls_loss   dfl_loss  Instances       Size\n"
          ]
        },
        {
          "output_type": "stream",
          "name": "stderr",
          "text": [
            "      42/50      3.77G     0.6844     0.3645      1.143         12        640: 100%|██████████| 611/611 [02:47<00:00,  3.64it/s]\n",
            "                 Class     Images  Instances      Box(P          R      mAP50  mAP50-95): 100%|██████████| 26/26 [00:05<00:00,  4.54it/s]"
          ]
        },
        {
          "output_type": "stream",
          "name": "stdout",
          "text": [
            "                   all        828       1775      0.973       0.94       0.98      0.818\n"
          ]
        },
        {
          "output_type": "stream",
          "name": "stderr",
          "text": [
            "\n"
          ]
        },
        {
          "output_type": "stream",
          "name": "stdout",
          "text": [
            "\n",
            "      Epoch    GPU_mem   box_loss   cls_loss   dfl_loss  Instances       Size\n"
          ]
        },
        {
          "output_type": "stream",
          "name": "stderr",
          "text": [
            "      43/50      3.78G     0.6673     0.3529      1.135         13        640: 100%|██████████| 611/611 [02:48<00:00,  3.62it/s]\n",
            "                 Class     Images  Instances      Box(P          R      mAP50  mAP50-95): 100%|██████████| 26/26 [00:06<00:00,  3.91it/s]"
          ]
        },
        {
          "output_type": "stream",
          "name": "stdout",
          "text": [
            "                   all        828       1775      0.968      0.937      0.979      0.818\n"
          ]
        },
        {
          "output_type": "stream",
          "name": "stderr",
          "text": [
            "\n"
          ]
        },
        {
          "output_type": "stream",
          "name": "stdout",
          "text": [
            "\n",
            "      Epoch    GPU_mem   box_loss   cls_loss   dfl_loss  Instances       Size\n"
          ]
        },
        {
          "output_type": "stream",
          "name": "stderr",
          "text": [
            "      44/50       3.8G     0.6637     0.3496      1.131         14        640: 100%|██████████| 611/611 [02:49<00:00,  3.60it/s]\n",
            "                 Class     Images  Instances      Box(P          R      mAP50  mAP50-95): 100%|██████████| 26/26 [00:06<00:00,  3.88it/s]"
          ]
        },
        {
          "output_type": "stream",
          "name": "stdout",
          "text": [
            "                   all        828       1775      0.966      0.947      0.981       0.82\n"
          ]
        },
        {
          "output_type": "stream",
          "name": "stderr",
          "text": [
            "\n"
          ]
        },
        {
          "output_type": "stream",
          "name": "stdout",
          "text": [
            "\n",
            "      Epoch    GPU_mem   box_loss   cls_loss   dfl_loss  Instances       Size\n"
          ]
        },
        {
          "output_type": "stream",
          "name": "stderr",
          "text": [
            "      45/50      3.82G     0.6541     0.3412      1.126         15        640: 100%|██████████| 611/611 [02:50<00:00,  3.58it/s]\n",
            "                 Class     Images  Instances      Box(P          R      mAP50  mAP50-95): 100%|██████████| 26/26 [00:06<00:00,  4.04it/s]"
          ]
        },
        {
          "output_type": "stream",
          "name": "stdout",
          "text": [
            "                   all        828       1775      0.969      0.945      0.982      0.819\n"
          ]
        },
        {
          "output_type": "stream",
          "name": "stderr",
          "text": [
            "\n"
          ]
        },
        {
          "output_type": "stream",
          "name": "stdout",
          "text": [
            "\n",
            "      Epoch    GPU_mem   box_loss   cls_loss   dfl_loss  Instances       Size\n"
          ]
        },
        {
          "output_type": "stream",
          "name": "stderr",
          "text": [
            "      46/50      3.84G     0.6407     0.3328      1.114         13        640: 100%|██████████| 611/611 [02:49<00:00,  3.61it/s]\n",
            "                 Class     Images  Instances      Box(P          R      mAP50  mAP50-95): 100%|██████████| 26/26 [00:05<00:00,  4.47it/s]\n"
          ]
        },
        {
          "output_type": "stream",
          "name": "stdout",
          "text": [
            "                   all        828       1775      0.974      0.935      0.981       0.82\n",
            "\n",
            "      Epoch    GPU_mem   box_loss   cls_loss   dfl_loss  Instances       Size\n"
          ]
        },
        {
          "output_type": "stream",
          "name": "stderr",
          "text": [
            "      47/50      3.85G     0.6385     0.3298      1.111         16        640: 100%|██████████| 611/611 [02:49<00:00,  3.60it/s]\n",
            "                 Class     Images  Instances      Box(P          R      mAP50  mAP50-95): 100%|██████████| 26/26 [00:06<00:00,  3.85it/s]"
          ]
        },
        {
          "output_type": "stream",
          "name": "stdout",
          "text": [
            "                   all        828       1775      0.969       0.94       0.98      0.822\n"
          ]
        },
        {
          "output_type": "stream",
          "name": "stderr",
          "text": [
            "\n"
          ]
        },
        {
          "output_type": "stream",
          "name": "stdout",
          "text": [
            "\n",
            "      Epoch    GPU_mem   box_loss   cls_loss   dfl_loss  Instances       Size\n"
          ]
        },
        {
          "output_type": "stream",
          "name": "stderr",
          "text": [
            "      48/50      3.87G     0.6279     0.3237      1.106         15        640: 100%|██████████| 611/611 [02:48<00:00,  3.62it/s]\n",
            "                 Class     Images  Instances      Box(P          R      mAP50  mAP50-95): 100%|██████████| 26/26 [00:06<00:00,  3.80it/s]"
          ]
        },
        {
          "output_type": "stream",
          "name": "stdout",
          "text": [
            "                   all        828       1775      0.972      0.944      0.981      0.821\n"
          ]
        },
        {
          "output_type": "stream",
          "name": "stderr",
          "text": [
            "\n"
          ]
        },
        {
          "output_type": "stream",
          "name": "stdout",
          "text": [
            "\n",
            "      Epoch    GPU_mem   box_loss   cls_loss   dfl_loss  Instances       Size\n"
          ]
        },
        {
          "output_type": "stream",
          "name": "stderr",
          "text": [
            "      49/50      3.89G     0.6237      0.318      1.103         30        640: 100%|██████████| 611/611 [02:50<00:00,  3.59it/s]\n",
            "                 Class     Images  Instances      Box(P          R      mAP50  mAP50-95): 100%|██████████| 26/26 [00:06<00:00,  4.32it/s]"
          ]
        },
        {
          "output_type": "stream",
          "name": "stdout",
          "text": [
            "                   all        828       1775      0.977      0.936      0.982      0.821\n"
          ]
        },
        {
          "output_type": "stream",
          "name": "stderr",
          "text": [
            "\n"
          ]
        },
        {
          "output_type": "stream",
          "name": "stdout",
          "text": [
            "\n",
            "      Epoch    GPU_mem   box_loss   cls_loss   dfl_loss  Instances       Size\n"
          ]
        },
        {
          "output_type": "stream",
          "name": "stderr",
          "text": [
            "      50/50      3.91G     0.6173     0.3147      1.096         13        640: 100%|██████████| 611/611 [02:47<00:00,  3.64it/s]\n",
            "                 Class     Images  Instances      Box(P          R      mAP50  mAP50-95): 100%|██████████| 26/26 [00:05<00:00,  4.48it/s]"
          ]
        },
        {
          "output_type": "stream",
          "name": "stdout",
          "text": [
            "                   all        828       1775      0.975      0.939      0.982      0.824\n"
          ]
        },
        {
          "output_type": "stream",
          "name": "stderr",
          "text": [
            "\n"
          ]
        },
        {
          "output_type": "stream",
          "name": "stdout",
          "text": [
            "\n",
            "50 epochs completed in 2.517 hours.\n",
            "Optimizer stripped from runs/detect/train5/weights/last.pt, 6.2MB\n",
            "Optimizer stripped from runs/detect/train5/weights/best.pt, 6.2MB\n",
            "\n",
            "Validating runs/detect/train5/weights/best.pt...\n",
            "Ultralytics 8.3.184 🚀 Python-3.12.11 torch-2.8.0+cu126 CUDA:0 (Tesla T4, 15095MiB)\n",
            "Model summary (fused): 72 layers, 3,005,843 parameters, 0 gradients, 8.1 GFLOPs\n"
          ]
        },
        {
          "output_type": "stream",
          "name": "stderr",
          "text": [
            "                 Class     Images  Instances      Box(P          R      mAP50  mAP50-95): 100%|██████████| 26/26 [00:08<00:00,  2.91it/s]\n"
          ]
        },
        {
          "output_type": "stream",
          "name": "stdout",
          "text": [
            "                   all        828       1775      0.976      0.939      0.982      0.824\n",
            "Speed: 0.2ms preprocess, 2.2ms inference, 0.0ms loss, 2.4ms postprocess per image\n",
            "Results saved to \u001b[1mruns/detect/train5\u001b[0m\n"
          ]
        },
        {
          "output_type": "execute_result",
          "data": {
            "text/plain": [
              "ultralytics.utils.metrics.DetMetrics object with attributes:\n",
              "\n",
              "ap_class_index: array([0])\n",
              "box: ultralytics.utils.metrics.Metric object\n",
              "confusion_matrix: <ultralytics.utils.metrics.ConfusionMatrix object at 0x78a9baf741a0>\n",
              "curves: ['Precision-Recall(B)', 'F1-Confidence(B)', 'Precision-Confidence(B)', 'Recall-Confidence(B)']\n",
              "curves_results: [[array([          0,    0.001001,    0.002002,    0.003003,    0.004004,    0.005005,    0.006006,    0.007007,    0.008008,    0.009009,     0.01001,    0.011011,    0.012012,    0.013013,    0.014014,    0.015015,    0.016016,    0.017017,    0.018018,    0.019019,     0.02002,    0.021021,    0.022022,    0.023023,\n",
              "          0.024024,    0.025025,    0.026026,    0.027027,    0.028028,    0.029029,     0.03003,    0.031031,    0.032032,    0.033033,    0.034034,    0.035035,    0.036036,    0.037037,    0.038038,    0.039039,     0.04004,    0.041041,    0.042042,    0.043043,    0.044044,    0.045045,    0.046046,    0.047047,\n",
              "          0.048048,    0.049049,     0.05005,    0.051051,    0.052052,    0.053053,    0.054054,    0.055055,    0.056056,    0.057057,    0.058058,    0.059059,     0.06006,    0.061061,    0.062062,    0.063063,    0.064064,    0.065065,    0.066066,    0.067067,    0.068068,    0.069069,     0.07007,    0.071071,\n",
              "          0.072072,    0.073073,    0.074074,    0.075075,    0.076076,    0.077077,    0.078078,    0.079079,     0.08008,    0.081081,    0.082082,    0.083083,    0.084084,    0.085085,    0.086086,    0.087087,    0.088088,    0.089089,     0.09009,    0.091091,    0.092092,    0.093093,    0.094094,    0.095095,\n",
              "          0.096096,    0.097097,    0.098098,    0.099099,      0.1001,      0.1011,      0.1021,      0.1031,      0.1041,     0.10511,     0.10611,     0.10711,     0.10811,     0.10911,     0.11011,     0.11111,     0.11211,     0.11311,     0.11411,     0.11512,     0.11612,     0.11712,     0.11812,     0.11912,\n",
              "           0.12012,     0.12112,     0.12212,     0.12312,     0.12412,     0.12513,     0.12613,     0.12713,     0.12813,     0.12913,     0.13013,     0.13113,     0.13213,     0.13313,     0.13413,     0.13514,     0.13614,     0.13714,     0.13814,     0.13914,     0.14014,     0.14114,     0.14214,     0.14314,\n",
              "           0.14414,     0.14515,     0.14615,     0.14715,     0.14815,     0.14915,     0.15015,     0.15115,     0.15215,     0.15315,     0.15415,     0.15516,     0.15616,     0.15716,     0.15816,     0.15916,     0.16016,     0.16116,     0.16216,     0.16316,     0.16416,     0.16517,     0.16617,     0.16717,\n",
              "           0.16817,     0.16917,     0.17017,     0.17117,     0.17217,     0.17317,     0.17417,     0.17518,     0.17618,     0.17718,     0.17818,     0.17918,     0.18018,     0.18118,     0.18218,     0.18318,     0.18418,     0.18519,     0.18619,     0.18719,     0.18819,     0.18919,     0.19019,     0.19119,\n",
              "           0.19219,     0.19319,     0.19419,      0.1952,      0.1962,      0.1972,      0.1982,      0.1992,      0.2002,      0.2012,      0.2022,      0.2032,      0.2042,     0.20521,     0.20621,     0.20721,     0.20821,     0.20921,     0.21021,     0.21121,     0.21221,     0.21321,     0.21421,     0.21522,\n",
              "           0.21622,     0.21722,     0.21822,     0.21922,     0.22022,     0.22122,     0.22222,     0.22322,     0.22422,     0.22523,     0.22623,     0.22723,     0.22823,     0.22923,     0.23023,     0.23123,     0.23223,     0.23323,     0.23423,     0.23524,     0.23624,     0.23724,     0.23824,     0.23924,\n",
              "           0.24024,     0.24124,     0.24224,     0.24324,     0.24424,     0.24525,     0.24625,     0.24725,     0.24825,     0.24925,     0.25025,     0.25125,     0.25225,     0.25325,     0.25425,     0.25526,     0.25626,     0.25726,     0.25826,     0.25926,     0.26026,     0.26126,     0.26226,     0.26326,\n",
              "           0.26426,     0.26527,     0.26627,     0.26727,     0.26827,     0.26927,     0.27027,     0.27127,     0.27227,     0.27327,     0.27427,     0.27528,     0.27628,     0.27728,     0.27828,     0.27928,     0.28028,     0.28128,     0.28228,     0.28328,     0.28428,     0.28529,     0.28629,     0.28729,\n",
              "           0.28829,     0.28929,     0.29029,     0.29129,     0.29229,     0.29329,     0.29429,      0.2953,      0.2963,      0.2973,      0.2983,      0.2993,      0.3003,      0.3013,      0.3023,      0.3033,      0.3043,     0.30531,     0.30631,     0.30731,     0.30831,     0.30931,     0.31031,     0.31131,\n",
              "           0.31231,     0.31331,     0.31431,     0.31532,     0.31632,     0.31732,     0.31832,     0.31932,     0.32032,     0.32132,     0.32232,     0.32332,     0.32432,     0.32533,     0.32633,     0.32733,     0.32833,     0.32933,     0.33033,     0.33133,     0.33233,     0.33333,     0.33433,     0.33534,\n",
              "           0.33634,     0.33734,     0.33834,     0.33934,     0.34034,     0.34134,     0.34234,     0.34334,     0.34434,     0.34535,     0.34635,     0.34735,     0.34835,     0.34935,     0.35035,     0.35135,     0.35235,     0.35335,     0.35435,     0.35536,     0.35636,     0.35736,     0.35836,     0.35936,\n",
              "           0.36036,     0.36136,     0.36236,     0.36336,     0.36436,     0.36537,     0.36637,     0.36737,     0.36837,     0.36937,     0.37037,     0.37137,     0.37237,     0.37337,     0.37437,     0.37538,     0.37638,     0.37738,     0.37838,     0.37938,     0.38038,     0.38138,     0.38238,     0.38338,\n",
              "           0.38438,     0.38539,     0.38639,     0.38739,     0.38839,     0.38939,     0.39039,     0.39139,     0.39239,     0.39339,     0.39439,      0.3954,      0.3964,      0.3974,      0.3984,      0.3994,      0.4004,      0.4014,      0.4024,      0.4034,      0.4044,     0.40541,     0.40641,     0.40741,\n",
              "           0.40841,     0.40941,     0.41041,     0.41141,     0.41241,     0.41341,     0.41441,     0.41542,     0.41642,     0.41742,     0.41842,     0.41942,     0.42042,     0.42142,     0.42242,     0.42342,     0.42442,     0.42543,     0.42643,     0.42743,     0.42843,     0.42943,     0.43043,     0.43143,\n",
              "           0.43243,     0.43343,     0.43443,     0.43544,     0.43644,     0.43744,     0.43844,     0.43944,     0.44044,     0.44144,     0.44244,     0.44344,     0.44444,     0.44545,     0.44645,     0.44745,     0.44845,     0.44945,     0.45045,     0.45145,     0.45245,     0.45345,     0.45445,     0.45546,\n",
              "           0.45646,     0.45746,     0.45846,     0.45946,     0.46046,     0.46146,     0.46246,     0.46346,     0.46446,     0.46547,     0.46647,     0.46747,     0.46847,     0.46947,     0.47047,     0.47147,     0.47247,     0.47347,     0.47447,     0.47548,     0.47648,     0.47748,     0.47848,     0.47948,\n",
              "           0.48048,     0.48148,     0.48248,     0.48348,     0.48448,     0.48549,     0.48649,     0.48749,     0.48849,     0.48949,     0.49049,     0.49149,     0.49249,     0.49349,     0.49449,      0.4955,      0.4965,      0.4975,      0.4985,      0.4995,      0.5005,      0.5015,      0.5025,      0.5035,\n",
              "            0.5045,     0.50551,     0.50651,     0.50751,     0.50851,     0.50951,     0.51051,     0.51151,     0.51251,     0.51351,     0.51451,     0.51552,     0.51652,     0.51752,     0.51852,     0.51952,     0.52052,     0.52152,     0.52252,     0.52352,     0.52452,     0.52553,     0.52653,     0.52753,\n",
              "           0.52853,     0.52953,     0.53053,     0.53153,     0.53253,     0.53353,     0.53453,     0.53554,     0.53654,     0.53754,     0.53854,     0.53954,     0.54054,     0.54154,     0.54254,     0.54354,     0.54454,     0.54555,     0.54655,     0.54755,     0.54855,     0.54955,     0.55055,     0.55155,\n",
              "           0.55255,     0.55355,     0.55455,     0.55556,     0.55656,     0.55756,     0.55856,     0.55956,     0.56056,     0.56156,     0.56256,     0.56356,     0.56456,     0.56557,     0.56657,     0.56757,     0.56857,     0.56957,     0.57057,     0.57157,     0.57257,     0.57357,     0.57457,     0.57558,\n",
              "           0.57658,     0.57758,     0.57858,     0.57958,     0.58058,     0.58158,     0.58258,     0.58358,     0.58458,     0.58559,     0.58659,     0.58759,     0.58859,     0.58959,     0.59059,     0.59159,     0.59259,     0.59359,     0.59459,      0.5956,      0.5966,      0.5976,      0.5986,      0.5996,\n",
              "            0.6006,      0.6016,      0.6026,      0.6036,      0.6046,     0.60561,     0.60661,     0.60761,     0.60861,     0.60961,     0.61061,     0.61161,     0.61261,     0.61361,     0.61461,     0.61562,     0.61662,     0.61762,     0.61862,     0.61962,     0.62062,     0.62162,     0.62262,     0.62362,\n",
              "           0.62462,     0.62563,     0.62663,     0.62763,     0.62863,     0.62963,     0.63063,     0.63163,     0.63263,     0.63363,     0.63463,     0.63564,     0.63664,     0.63764,     0.63864,     0.63964,     0.64064,     0.64164,     0.64264,     0.64364,     0.64464,     0.64565,     0.64665,     0.64765,\n",
              "           0.64865,     0.64965,     0.65065,     0.65165,     0.65265,     0.65365,     0.65465,     0.65566,     0.65666,     0.65766,     0.65866,     0.65966,     0.66066,     0.66166,     0.66266,     0.66366,     0.66466,     0.66567,     0.66667,     0.66767,     0.66867,     0.66967,     0.67067,     0.67167,\n",
              "           0.67267,     0.67367,     0.67467,     0.67568,     0.67668,     0.67768,     0.67868,     0.67968,     0.68068,     0.68168,     0.68268,     0.68368,     0.68468,     0.68569,     0.68669,     0.68769,     0.68869,     0.68969,     0.69069,     0.69169,     0.69269,     0.69369,     0.69469,      0.6957,\n",
              "            0.6967,      0.6977,      0.6987,      0.6997,      0.7007,      0.7017,      0.7027,      0.7037,      0.7047,     0.70571,     0.70671,     0.70771,     0.70871,     0.70971,     0.71071,     0.71171,     0.71271,     0.71371,     0.71471,     0.71572,     0.71672,     0.71772,     0.71872,     0.71972,\n",
              "           0.72072,     0.72172,     0.72272,     0.72372,     0.72472,     0.72573,     0.72673,     0.72773,     0.72873,     0.72973,     0.73073,     0.73173,     0.73273,     0.73373,     0.73473,     0.73574,     0.73674,     0.73774,     0.73874,     0.73974,     0.74074,     0.74174,     0.74274,     0.74374,\n",
              "           0.74474,     0.74575,     0.74675,     0.74775,     0.74875,     0.74975,     0.75075,     0.75175,     0.75275,     0.75375,     0.75475,     0.75576,     0.75676,     0.75776,     0.75876,     0.75976,     0.76076,     0.76176,     0.76276,     0.76376,     0.76476,     0.76577,     0.76677,     0.76777,\n",
              "           0.76877,     0.76977,     0.77077,     0.77177,     0.77277,     0.77377,     0.77477,     0.77578,     0.77678,     0.77778,     0.77878,     0.77978,     0.78078,     0.78178,     0.78278,     0.78378,     0.78478,     0.78579,     0.78679,     0.78779,     0.78879,     0.78979,     0.79079,     0.79179,\n",
              "           0.79279,     0.79379,     0.79479,      0.7958,      0.7968,      0.7978,      0.7988,      0.7998,      0.8008,      0.8018,      0.8028,      0.8038,      0.8048,     0.80581,     0.80681,     0.80781,     0.80881,     0.80981,     0.81081,     0.81181,     0.81281,     0.81381,     0.81481,     0.81582,\n",
              "           0.81682,     0.81782,     0.81882,     0.81982,     0.82082,     0.82182,     0.82282,     0.82382,     0.82482,     0.82583,     0.82683,     0.82783,     0.82883,     0.82983,     0.83083,     0.83183,     0.83283,     0.83383,     0.83483,     0.83584,     0.83684,     0.83784,     0.83884,     0.83984,\n",
              "           0.84084,     0.84184,     0.84284,     0.84384,     0.84484,     0.84585,     0.84685,     0.84785,     0.84885,     0.84985,     0.85085,     0.85185,     0.85285,     0.85385,     0.85485,     0.85586,     0.85686,     0.85786,     0.85886,     0.85986,     0.86086,     0.86186,     0.86286,     0.86386,\n",
              "           0.86486,     0.86587,     0.86687,     0.86787,     0.86887,     0.86987,     0.87087,     0.87187,     0.87287,     0.87387,     0.87487,     0.87588,     0.87688,     0.87788,     0.87888,     0.87988,     0.88088,     0.88188,     0.88288,     0.88388,     0.88488,     0.88589,     0.88689,     0.88789,\n",
              "           0.88889,     0.88989,     0.89089,     0.89189,     0.89289,     0.89389,     0.89489,      0.8959,      0.8969,      0.8979,      0.8989,      0.8999,      0.9009,      0.9019,      0.9029,      0.9039,      0.9049,     0.90591,     0.90691,     0.90791,     0.90891,     0.90991,     0.91091,     0.91191,\n",
              "           0.91291,     0.91391,     0.91491,     0.91592,     0.91692,     0.91792,     0.91892,     0.91992,     0.92092,     0.92192,     0.92292,     0.92392,     0.92492,     0.92593,     0.92693,     0.92793,     0.92893,     0.92993,     0.93093,     0.93193,     0.93293,     0.93393,     0.93493,     0.93594,\n",
              "           0.93694,     0.93794,     0.93894,     0.93994,     0.94094,     0.94194,     0.94294,     0.94394,     0.94494,     0.94595,     0.94695,     0.94795,     0.94895,     0.94995,     0.95095,     0.95195,     0.95295,     0.95395,     0.95495,     0.95596,     0.95696,     0.95796,     0.95896,     0.95996,\n",
              "           0.96096,     0.96196,     0.96296,     0.96396,     0.96496,     0.96597,     0.96697,     0.96797,     0.96897,     0.96997,     0.97097,     0.97197,     0.97297,     0.97397,     0.97497,     0.97598,     0.97698,     0.97798,     0.97898,     0.97998,     0.98098,     0.98198,     0.98298,     0.98398,\n",
              "           0.98498,     0.98599,     0.98699,     0.98799,     0.98899,     0.98999,     0.99099,     0.99199,     0.99299,     0.99399,     0.99499,       0.996,       0.997,       0.998,       0.999,           1]), array([[          1,           1,           1,           1,           1,           1,           1,           1,           1,           1,           1,           1,           1,           1,           1,           1,           1,           1,           1,           1,           1,           1,           1,\n",
              "                  1,           1,           1,           1,           1,           1,           1,           1,           1,           1,           1,           1,           1,           1,           1,           1,           1,           1,           1,           1,           1,           1,           1,\n",
              "                  1,           1,           1,           1,           1,           1,           1,           1,           1,           1,           1,           1,           1,           1,           1,           1,           1,           1,           1,           1,           1,           1,           1,\n",
              "                  1,           1,           1,           1,           1,           1,           1,           1,           1,           1,           1,           1,           1,           1,           1,           1,           1,           1,           1,           1,           1,           1,           1,\n",
              "                  1,           1,           1,           1,           1,           1,           1,           1,           1,           1,           1,           1,           1,           1,           1,           1,           1,           1,           1,           1,           1,           1,           1,\n",
              "                  1,           1,           1,           1,           1,           1,           1,           1,           1,           1,           1,           1,           1,           1,           1,           1,           1,           1,           1,           1,           1,           1,           1,\n",
              "                  1,           1,           1,           1,           1,           1,           1,           1,           1,           1,           1,           1,           1,           1,           1,           1,           1,           1,           1,           1,           1,           1,           1,\n",
              "                  1,           1,           1,           1,           1,           1,           1,           1,           1,           1,           1,           1,           1,           1,           1,           1,           1,           1,           1,           1,           1,           1,           1,\n",
              "                  1,           1,           1,           1,           1,           1,           1,           1,           1,           1,           1,           1,           1,           1,           1,           1,           1,           1,           1,           1,           1,           1,           1,\n",
              "                  1,           1,           1,           1,           1,           1,           1,           1,           1,           1,           1,           1,           1,           1,           1,           1,           1,           1,           1,           1,           1,           1,           1,\n",
              "                  1,           1,           1,           1,           1,           1,           1,           1,           1,           1,           1,           1,           1,           1,           1,           1,           1,           1,           1,           1,           1,           1,           1,\n",
              "                  1,           1,           1,           1,           1,           1,           1,           1,           1,           1,           1,           1,           1,           1,           1,           1,           1,           1,           1,           1,           1,           1,           1,\n",
              "                  1,           1,           1,           1,           1,           1,           1,           1,           1,           1,           1,           1,           1,           1,           1,           1,           1,           1,           1,           1,           1,           1,           1,\n",
              "                  1,           1,           1,           1,           1,           1,           1,           1,           1,           1,           1,           1,           1,           1,           1,           1,           1,           1,           1,           1,           1,           1,           1,\n",
              "                  1,           1,           1,           1,           1,           1,           1,           1,           1,           1,           1,           1,           1,           1,           1,           1,           1,           1,           1,           1,           1,           1,           1,\n",
              "                  1,           1,           1,           1,           1,           1,           1,           1,           1,           1,           1,           1,           1,           1,           1,           1,           1,           1,           1,           1,           1,           1,           1,\n",
              "                  1,           1,           1,           1,           1,           1,           1,           1,           1,           1,           1,           1,           1,           1,           1,           1,           1,           1,           1,           1,           1,           1,           1,\n",
              "                  1,           1,           1,           1,           1,           1,           1,           1,           1,           1,           1,           1,           1,           1,           1,           1,           1,           1,           1,           1,           1,           1,           1,\n",
              "                  1,           1,           1,           1,           1,           1,           1,           1,           1,           1,           1,           1,           1,           1,           1,           1,     0.99876,     0.99876,     0.99876,     0.99876,     0.99876,     0.99876,     0.99876,\n",
              "            0.99876,     0.99876,     0.99876,     0.99876,     0.99876,     0.99876,     0.99876,     0.99876,     0.99876,     0.99876,     0.99876,     0.99876,     0.99876,     0.99876,     0.99876,     0.99876,     0.99876,     0.99876,     0.99819,     0.99819,     0.99819,     0.99819,     0.99819,\n",
              "            0.99819,     0.99819,     0.99819,     0.99819,     0.99819,     0.99819,     0.99819,     0.99819,     0.99819,     0.99819,     0.99819,     0.99819,     0.99819,     0.99819,     0.99819,     0.99819,     0.99819,     0.99819,     0.99819,     0.99819,     0.99819,     0.99819,     0.99819,\n",
              "            0.99819,     0.99819,     0.99819,     0.99819,     0.99819,     0.99819,     0.99819,     0.99819,     0.99819,     0.99819,     0.99819,     0.99819,     0.99819,     0.99819,     0.99819,     0.99819,     0.99819,     0.99819,     0.99819,     0.99819,     0.99819,     0.99819,     0.99819,\n",
              "            0.99819,     0.99819,     0.99819,     0.99819,     0.99819,     0.99819,     0.99819,     0.99819,     0.99819,     0.99819,     0.99819,     0.99819,     0.99819,     0.99819,     0.99819,     0.99819,     0.99819,     0.99819,     0.99819,     0.99819,     0.99819,     0.99819,     0.99819,\n",
              "            0.99819,     0.99819,     0.99819,     0.99819,     0.99819,     0.99819,     0.99819,     0.99819,     0.99819,     0.99819,     0.99819,     0.99819,     0.99819,     0.99819,     0.99819,     0.99819,     0.99819,     0.99819,     0.99819,     0.99819,     0.99819,     0.99819,     0.99819,\n",
              "            0.99819,     0.99819,     0.99819,     0.99819,     0.99819,     0.99819,     0.99819,     0.99819,     0.99819,     0.99819,     0.99819,     0.99819,     0.99819,     0.99819,     0.99819,     0.99819,     0.99819,     0.99819,     0.99819,     0.99819,     0.99819,     0.99819,     0.99819,\n",
              "            0.99819,     0.99819,     0.99819,     0.99819,     0.99819,     0.99819,     0.99819,     0.99819,     0.99819,     0.99819,     0.99819,     0.99819,     0.99819,     0.99819,     0.99819,     0.99819,     0.99819,     0.99819,     0.99819,     0.99819,     0.99819,     0.99819,     0.99819,\n",
              "            0.99819,     0.99819,     0.99819,     0.99819,     0.99819,     0.99819,     0.99819,     0.99819,     0.99819,     0.99819,     0.99819,     0.99819,     0.99819,     0.99819,     0.99819,     0.99819,     0.99819,     0.99819,     0.99819,     0.99819,     0.99819,     0.99819,     0.99819,\n",
              "            0.99819,      0.9973,      0.9973,     0.99709,     0.99709,     0.99709,     0.99709,     0.99709,     0.99709,     0.99709,     0.99709,     0.99709,     0.99709,     0.99709,     0.99709,     0.99709,     0.99709,     0.99709,     0.99709,     0.99709,     0.99709,     0.99709,     0.99709,\n",
              "            0.99709,     0.99709,     0.99709,     0.99709,     0.99709,     0.99709,     0.99709,     0.99709,     0.99709,     0.99709,     0.99709,     0.99709,     0.99709,     0.99709,     0.99709,     0.99709,     0.99709,     0.99709,     0.99709,     0.99709,     0.99709,     0.99709,     0.99709,\n",
              "            0.99709,     0.99709,     0.99709,     0.99709,     0.99709,     0.99709,     0.99709,     0.99709,     0.99709,     0.99709,     0.99709,     0.99709,     0.99709,     0.99709,     0.99709,     0.99709,     0.99709,     0.99709,     0.99709,     0.99709,     0.99709,     0.99709,     0.99709,\n",
              "            0.99709,     0.99709,     0.99709,     0.99709,     0.99709,     0.99709,     0.99709,     0.99709,     0.99709,     0.99709,     0.99709,     0.99709,     0.99709,     0.99709,     0.99709,     0.99709,     0.99709,     0.99709,     0.99709,     0.99709,     0.99709,     0.99709,     0.99709,\n",
              "            0.99709,     0.99709,     0.99709,     0.99709,     0.99709,     0.99709,     0.99709,     0.99709,     0.99709,     0.99709,     0.99709,     0.99709,     0.99709,     0.99709,     0.99709,     0.99709,     0.99709,     0.99709,     0.99709,     0.99709,     0.99709,     0.99709,     0.99709,\n",
              "            0.99709,     0.99709,     0.99709,     0.99709,     0.99709,     0.99709,     0.99709,     0.99709,     0.99709,     0.99709,     0.99709,     0.99709,     0.99709,     0.99709,     0.99709,     0.99709,     0.99709,     0.99709,     0.99709,     0.99709,     0.99709,     0.99709,     0.99709,\n",
              "            0.99709,     0.99709,     0.99709,     0.99709,     0.99709,     0.99709,     0.99709,     0.99709,     0.99709,     0.99709,     0.99709,     0.99709,     0.99656,     0.99656,     0.99656,     0.99656,     0.99656,     0.99656,     0.99656,     0.99656,     0.99656,     0.99656,     0.99656,\n",
              "            0.99656,     0.99656,     0.99656,     0.99656,     0.99656,     0.99656,     0.99656,     0.99656,     0.99656,     0.99656,     0.99656,     0.99656,     0.99656,     0.99656,     0.99656,     0.99656,     0.99656,     0.99656,     0.99656,     0.99656,     0.99656,     0.99656,     0.99656,\n",
              "            0.99656,     0.99656,     0.99656,     0.99656,     0.99656,     0.99656,     0.99656,     0.99656,     0.99656,     0.99656,     0.99656,     0.99608,     0.99608,     0.99608,     0.99608,     0.99608,     0.99608,     0.99608,     0.99608,     0.99608,     0.99608,     0.99608,     0.99608,\n",
              "            0.99608,     0.99608,     0.99608,     0.99608,     0.99608,     0.99608,     0.99608,     0.99608,     0.99608,     0.99608,     0.99608,     0.99608,     0.99608,     0.99608,     0.99608,     0.99608,     0.99608,     0.99608,     0.99608,     0.99608,     0.99608,     0.99608,     0.99608,\n",
              "            0.99608,     0.99608,     0.99608,     0.99608,     0.99608,     0.99608,     0.99608,     0.99548,     0.99548,     0.99548,     0.99548,     0.99548,     0.99548,     0.99548,     0.99548,     0.99548,     0.99484,     0.99422,     0.99422,     0.99422,     0.99422,     0.99249,     0.99249,\n",
              "            0.99249,     0.99249,     0.99249,     0.99249,     0.99249,     0.99249,     0.99249,     0.99249,     0.99249,     0.99249,     0.99249,     0.99249,     0.99249,     0.99249,     0.99249,     0.99249,     0.99249,     0.99249,     0.99249,      0.9919,      0.9919,      0.9919,      0.9919,\n",
              "            0.99137,     0.99137,     0.99137,     0.99137,     0.99137,     0.99137,     0.99137,     0.99137,     0.99137,     0.99016,     0.98957,       0.989,       0.989,       0.989,       0.989,     0.98842,     0.98797,     0.98797,     0.98797,     0.98797,     0.98797,     0.98797,     0.98797,\n",
              "            0.98797,     0.98797,     0.98797,     0.98797,     0.98797,     0.98679,     0.98563,     0.98506,     0.98448,     0.98274,     0.98046,     0.98046,     0.98046,     0.97994,     0.97994,     0.97942,     0.97942,     0.97942,     0.97657,      0.9749,     0.97321,     0.97213,     0.97213,\n",
              "            0.96935,     0.96828,     0.96776,     0.96776,     0.96724,     0.96674,      0.9651,     0.96128,     0.95642,     0.95542,     0.95332,     0.95227,     0.95177,     0.95076,     0.94869,     0.94716,     0.94509,     0.94046,     0.92625,     0.92482,     0.91267,     0.91267,     0.91126,\n",
              "            0.90368,     0.89958,     0.89958,     0.88809,     0.87115,      0.8643,     0.85418,     0.84929,     0.84895,     0.83078,     0.79441,     0.78909,     0.75829,     0.73854,     0.64855,     0.60493,     0.60256,     0.53472,     0.51502,     0.45245,     0.45027,     0.40512,     0.37136,\n",
              "             0.3376,     0.30384,     0.27008,     0.23632,     0.20256,      0.1688,     0.13504,     0.10128,     0.06752,     0.03376,           0]]), 'Recall', 'Precision'], [array([          0,    0.001001,    0.002002,    0.003003,    0.004004,    0.005005,    0.006006,    0.007007,    0.008008,    0.009009,     0.01001,    0.011011,    0.012012,    0.013013,    0.014014,    0.015015,    0.016016,    0.017017,    0.018018,    0.019019,     0.02002,    0.021021,    0.022022,    0.023023,\n",
              "          0.024024,    0.025025,    0.026026,    0.027027,    0.028028,    0.029029,     0.03003,    0.031031,    0.032032,    0.033033,    0.034034,    0.035035,    0.036036,    0.037037,    0.038038,    0.039039,     0.04004,    0.041041,    0.042042,    0.043043,    0.044044,    0.045045,    0.046046,    0.047047,\n",
              "          0.048048,    0.049049,     0.05005,    0.051051,    0.052052,    0.053053,    0.054054,    0.055055,    0.056056,    0.057057,    0.058058,    0.059059,     0.06006,    0.061061,    0.062062,    0.063063,    0.064064,    0.065065,    0.066066,    0.067067,    0.068068,    0.069069,     0.07007,    0.071071,\n",
              "          0.072072,    0.073073,    0.074074,    0.075075,    0.076076,    0.077077,    0.078078,    0.079079,     0.08008,    0.081081,    0.082082,    0.083083,    0.084084,    0.085085,    0.086086,    0.087087,    0.088088,    0.089089,     0.09009,    0.091091,    0.092092,    0.093093,    0.094094,    0.095095,\n",
              "          0.096096,    0.097097,    0.098098,    0.099099,      0.1001,      0.1011,      0.1021,      0.1031,      0.1041,     0.10511,     0.10611,     0.10711,     0.10811,     0.10911,     0.11011,     0.11111,     0.11211,     0.11311,     0.11411,     0.11512,     0.11612,     0.11712,     0.11812,     0.11912,\n",
              "           0.12012,     0.12112,     0.12212,     0.12312,     0.12412,     0.12513,     0.12613,     0.12713,     0.12813,     0.12913,     0.13013,     0.13113,     0.13213,     0.13313,     0.13413,     0.13514,     0.13614,     0.13714,     0.13814,     0.13914,     0.14014,     0.14114,     0.14214,     0.14314,\n",
              "           0.14414,     0.14515,     0.14615,     0.14715,     0.14815,     0.14915,     0.15015,     0.15115,     0.15215,     0.15315,     0.15415,     0.15516,     0.15616,     0.15716,     0.15816,     0.15916,     0.16016,     0.16116,     0.16216,     0.16316,     0.16416,     0.16517,     0.16617,     0.16717,\n",
              "           0.16817,     0.16917,     0.17017,     0.17117,     0.17217,     0.17317,     0.17417,     0.17518,     0.17618,     0.17718,     0.17818,     0.17918,     0.18018,     0.18118,     0.18218,     0.18318,     0.18418,     0.18519,     0.18619,     0.18719,     0.18819,     0.18919,     0.19019,     0.19119,\n",
              "           0.19219,     0.19319,     0.19419,      0.1952,      0.1962,      0.1972,      0.1982,      0.1992,      0.2002,      0.2012,      0.2022,      0.2032,      0.2042,     0.20521,     0.20621,     0.20721,     0.20821,     0.20921,     0.21021,     0.21121,     0.21221,     0.21321,     0.21421,     0.21522,\n",
              "           0.21622,     0.21722,     0.21822,     0.21922,     0.22022,     0.22122,     0.22222,     0.22322,     0.22422,     0.22523,     0.22623,     0.22723,     0.22823,     0.22923,     0.23023,     0.23123,     0.23223,     0.23323,     0.23423,     0.23524,     0.23624,     0.23724,     0.23824,     0.23924,\n",
              "           0.24024,     0.24124,     0.24224,     0.24324,     0.24424,     0.24525,     0.24625,     0.24725,     0.24825,     0.24925,     0.25025,     0.25125,     0.25225,     0.25325,     0.25425,     0.25526,     0.25626,     0.25726,     0.25826,     0.25926,     0.26026,     0.26126,     0.26226,     0.26326,\n",
              "           0.26426,     0.26527,     0.26627,     0.26727,     0.26827,     0.26927,     0.27027,     0.27127,     0.27227,     0.27327,     0.27427,     0.27528,     0.27628,     0.27728,     0.27828,     0.27928,     0.28028,     0.28128,     0.28228,     0.28328,     0.28428,     0.28529,     0.28629,     0.28729,\n",
              "           0.28829,     0.28929,     0.29029,     0.29129,     0.29229,     0.29329,     0.29429,      0.2953,      0.2963,      0.2973,      0.2983,      0.2993,      0.3003,      0.3013,      0.3023,      0.3033,      0.3043,     0.30531,     0.30631,     0.30731,     0.30831,     0.30931,     0.31031,     0.31131,\n",
              "           0.31231,     0.31331,     0.31431,     0.31532,     0.31632,     0.31732,     0.31832,     0.31932,     0.32032,     0.32132,     0.32232,     0.32332,     0.32432,     0.32533,     0.32633,     0.32733,     0.32833,     0.32933,     0.33033,     0.33133,     0.33233,     0.33333,     0.33433,     0.33534,\n",
              "           0.33634,     0.33734,     0.33834,     0.33934,     0.34034,     0.34134,     0.34234,     0.34334,     0.34434,     0.34535,     0.34635,     0.34735,     0.34835,     0.34935,     0.35035,     0.35135,     0.35235,     0.35335,     0.35435,     0.35536,     0.35636,     0.35736,     0.35836,     0.35936,\n",
              "           0.36036,     0.36136,     0.36236,     0.36336,     0.36436,     0.36537,     0.36637,     0.36737,     0.36837,     0.36937,     0.37037,     0.37137,     0.37237,     0.37337,     0.37437,     0.37538,     0.37638,     0.37738,     0.37838,     0.37938,     0.38038,     0.38138,     0.38238,     0.38338,\n",
              "           0.38438,     0.38539,     0.38639,     0.38739,     0.38839,     0.38939,     0.39039,     0.39139,     0.39239,     0.39339,     0.39439,      0.3954,      0.3964,      0.3974,      0.3984,      0.3994,      0.4004,      0.4014,      0.4024,      0.4034,      0.4044,     0.40541,     0.40641,     0.40741,\n",
              "           0.40841,     0.40941,     0.41041,     0.41141,     0.41241,     0.41341,     0.41441,     0.41542,     0.41642,     0.41742,     0.41842,     0.41942,     0.42042,     0.42142,     0.42242,     0.42342,     0.42442,     0.42543,     0.42643,     0.42743,     0.42843,     0.42943,     0.43043,     0.43143,\n",
              "           0.43243,     0.43343,     0.43443,     0.43544,     0.43644,     0.43744,     0.43844,     0.43944,     0.44044,     0.44144,     0.44244,     0.44344,     0.44444,     0.44545,     0.44645,     0.44745,     0.44845,     0.44945,     0.45045,     0.45145,     0.45245,     0.45345,     0.45445,     0.45546,\n",
              "           0.45646,     0.45746,     0.45846,     0.45946,     0.46046,     0.46146,     0.46246,     0.46346,     0.46446,     0.46547,     0.46647,     0.46747,     0.46847,     0.46947,     0.47047,     0.47147,     0.47247,     0.47347,     0.47447,     0.47548,     0.47648,     0.47748,     0.47848,     0.47948,\n",
              "           0.48048,     0.48148,     0.48248,     0.48348,     0.48448,     0.48549,     0.48649,     0.48749,     0.48849,     0.48949,     0.49049,     0.49149,     0.49249,     0.49349,     0.49449,      0.4955,      0.4965,      0.4975,      0.4985,      0.4995,      0.5005,      0.5015,      0.5025,      0.5035,\n",
              "            0.5045,     0.50551,     0.50651,     0.50751,     0.50851,     0.50951,     0.51051,     0.51151,     0.51251,     0.51351,     0.51451,     0.51552,     0.51652,     0.51752,     0.51852,     0.51952,     0.52052,     0.52152,     0.52252,     0.52352,     0.52452,     0.52553,     0.52653,     0.52753,\n",
              "           0.52853,     0.52953,     0.53053,     0.53153,     0.53253,     0.53353,     0.53453,     0.53554,     0.53654,     0.53754,     0.53854,     0.53954,     0.54054,     0.54154,     0.54254,     0.54354,     0.54454,     0.54555,     0.54655,     0.54755,     0.54855,     0.54955,     0.55055,     0.55155,\n",
              "           0.55255,     0.55355,     0.55455,     0.55556,     0.55656,     0.55756,     0.55856,     0.55956,     0.56056,     0.56156,     0.56256,     0.56356,     0.56456,     0.56557,     0.56657,     0.56757,     0.56857,     0.56957,     0.57057,     0.57157,     0.57257,     0.57357,     0.57457,     0.57558,\n",
              "           0.57658,     0.57758,     0.57858,     0.57958,     0.58058,     0.58158,     0.58258,     0.58358,     0.58458,     0.58559,     0.58659,     0.58759,     0.58859,     0.58959,     0.59059,     0.59159,     0.59259,     0.59359,     0.59459,      0.5956,      0.5966,      0.5976,      0.5986,      0.5996,\n",
              "            0.6006,      0.6016,      0.6026,      0.6036,      0.6046,     0.60561,     0.60661,     0.60761,     0.60861,     0.60961,     0.61061,     0.61161,     0.61261,     0.61361,     0.61461,     0.61562,     0.61662,     0.61762,     0.61862,     0.61962,     0.62062,     0.62162,     0.62262,     0.62362,\n",
              "           0.62462,     0.62563,     0.62663,     0.62763,     0.62863,     0.62963,     0.63063,     0.63163,     0.63263,     0.63363,     0.63463,     0.63564,     0.63664,     0.63764,     0.63864,     0.63964,     0.64064,     0.64164,     0.64264,     0.64364,     0.64464,     0.64565,     0.64665,     0.64765,\n",
              "           0.64865,     0.64965,     0.65065,     0.65165,     0.65265,     0.65365,     0.65465,     0.65566,     0.65666,     0.65766,     0.65866,     0.65966,     0.66066,     0.66166,     0.66266,     0.66366,     0.66466,     0.66567,     0.66667,     0.66767,     0.66867,     0.66967,     0.67067,     0.67167,\n",
              "           0.67267,     0.67367,     0.67467,     0.67568,     0.67668,     0.67768,     0.67868,     0.67968,     0.68068,     0.68168,     0.68268,     0.68368,     0.68468,     0.68569,     0.68669,     0.68769,     0.68869,     0.68969,     0.69069,     0.69169,     0.69269,     0.69369,     0.69469,      0.6957,\n",
              "            0.6967,      0.6977,      0.6987,      0.6997,      0.7007,      0.7017,      0.7027,      0.7037,      0.7047,     0.70571,     0.70671,     0.70771,     0.70871,     0.70971,     0.71071,     0.71171,     0.71271,     0.71371,     0.71471,     0.71572,     0.71672,     0.71772,     0.71872,     0.71972,\n",
              "           0.72072,     0.72172,     0.72272,     0.72372,     0.72472,     0.72573,     0.72673,     0.72773,     0.72873,     0.72973,     0.73073,     0.73173,     0.73273,     0.73373,     0.73473,     0.73574,     0.73674,     0.73774,     0.73874,     0.73974,     0.74074,     0.74174,     0.74274,     0.74374,\n",
              "           0.74474,     0.74575,     0.74675,     0.74775,     0.74875,     0.74975,     0.75075,     0.75175,     0.75275,     0.75375,     0.75475,     0.75576,     0.75676,     0.75776,     0.75876,     0.75976,     0.76076,     0.76176,     0.76276,     0.76376,     0.76476,     0.76577,     0.76677,     0.76777,\n",
              "           0.76877,     0.76977,     0.77077,     0.77177,     0.77277,     0.77377,     0.77477,     0.77578,     0.77678,     0.77778,     0.77878,     0.77978,     0.78078,     0.78178,     0.78278,     0.78378,     0.78478,     0.78579,     0.78679,     0.78779,     0.78879,     0.78979,     0.79079,     0.79179,\n",
              "           0.79279,     0.79379,     0.79479,      0.7958,      0.7968,      0.7978,      0.7988,      0.7998,      0.8008,      0.8018,      0.8028,      0.8038,      0.8048,     0.80581,     0.80681,     0.80781,     0.80881,     0.80981,     0.81081,     0.81181,     0.81281,     0.81381,     0.81481,     0.81582,\n",
              "           0.81682,     0.81782,     0.81882,     0.81982,     0.82082,     0.82182,     0.82282,     0.82382,     0.82482,     0.82583,     0.82683,     0.82783,     0.82883,     0.82983,     0.83083,     0.83183,     0.83283,     0.83383,     0.83483,     0.83584,     0.83684,     0.83784,     0.83884,     0.83984,\n",
              "           0.84084,     0.84184,     0.84284,     0.84384,     0.84484,     0.84585,     0.84685,     0.84785,     0.84885,     0.84985,     0.85085,     0.85185,     0.85285,     0.85385,     0.85485,     0.85586,     0.85686,     0.85786,     0.85886,     0.85986,     0.86086,     0.86186,     0.86286,     0.86386,\n",
              "           0.86486,     0.86587,     0.86687,     0.86787,     0.86887,     0.86987,     0.87087,     0.87187,     0.87287,     0.87387,     0.87487,     0.87588,     0.87688,     0.87788,     0.87888,     0.87988,     0.88088,     0.88188,     0.88288,     0.88388,     0.88488,     0.88589,     0.88689,     0.88789,\n",
              "           0.88889,     0.88989,     0.89089,     0.89189,     0.89289,     0.89389,     0.89489,      0.8959,      0.8969,      0.8979,      0.8989,      0.8999,      0.9009,      0.9019,      0.9029,      0.9039,      0.9049,     0.90591,     0.90691,     0.90791,     0.90891,     0.90991,     0.91091,     0.91191,\n",
              "           0.91291,     0.91391,     0.91491,     0.91592,     0.91692,     0.91792,     0.91892,     0.91992,     0.92092,     0.92192,     0.92292,     0.92392,     0.92492,     0.92593,     0.92693,     0.92793,     0.92893,     0.92993,     0.93093,     0.93193,     0.93293,     0.93393,     0.93493,     0.93594,\n",
              "           0.93694,     0.93794,     0.93894,     0.93994,     0.94094,     0.94194,     0.94294,     0.94394,     0.94494,     0.94595,     0.94695,     0.94795,     0.94895,     0.94995,     0.95095,     0.95195,     0.95295,     0.95395,     0.95495,     0.95596,     0.95696,     0.95796,     0.95896,     0.95996,\n",
              "           0.96096,     0.96196,     0.96296,     0.96396,     0.96496,     0.96597,     0.96697,     0.96797,     0.96897,     0.96997,     0.97097,     0.97197,     0.97297,     0.97397,     0.97497,     0.97598,     0.97698,     0.97798,     0.97898,     0.97998,     0.98098,     0.98198,     0.98298,     0.98398,\n",
              "           0.98498,     0.98599,     0.98699,     0.98799,     0.98899,     0.98999,     0.99099,     0.99199,     0.99299,     0.99399,     0.99499,       0.996,       0.997,       0.998,       0.999,           1]), array([[    0.60581,     0.60581,     0.70218,     0.74832,     0.77837,     0.79447,      0.8149,     0.82696,     0.83859,     0.84629,     0.85329,     0.85705,     0.86231,     0.86556,     0.86998,     0.87318,     0.87662,     0.88077,     0.88289,     0.88512,     0.88662,     0.88817,     0.89015,\n",
              "            0.89221,       0.895,     0.89697,     0.89867,     0.90064,     0.90243,     0.90388,      0.9046,     0.90678,     0.90743,     0.90774,     0.90876,     0.90954,     0.90978,     0.91093,     0.91159,     0.91215,     0.91342,     0.91408,     0.91503,      0.9154,      0.9163,     0.91649,\n",
              "            0.91764,     0.91838,     0.91857,       0.919,     0.91891,     0.91909,     0.91938,     0.91952,     0.91968,     0.92006,     0.92091,     0.92192,     0.92269,     0.92292,     0.92303,     0.92331,     0.92411,     0.92434,     0.92443,     0.92452,     0.92498,     0.92561,     0.92584,\n",
              "            0.92612,     0.92664,     0.92714,     0.92722,     0.92703,     0.92785,     0.92882,     0.92998,     0.92986,     0.92975,     0.93003,     0.93051,      0.9306,     0.93068,     0.93078,      0.9309,     0.93128,     0.93142,     0.93158,     0.93176,     0.93204,     0.93269,     0.93294,\n",
              "            0.93274,     0.93249,      0.9328,     0.93297,     0.93346,     0.93356,     0.93366,     0.93368,     0.93378,     0.93388,     0.93395,     0.93399,     0.93404,     0.93409,     0.93414,     0.93431,     0.93432,     0.93416,     0.93471,     0.93519,     0.93535,     0.93549,     0.93561,\n",
              "            0.93578,     0.93598,     0.93616,     0.93648,     0.93657,     0.93667,     0.93684,     0.93719,     0.93766,     0.93754,     0.93743,     0.93758,     0.93782,     0.93828,     0.93839,     0.93835,      0.9383,     0.93826,     0.93821,     0.93817,     0.93812,     0.93805,     0.93797,\n",
              "            0.93789,     0.93756,      0.9377,     0.93783,     0.93797,     0.93778,     0.93811,      0.9383,     0.93842,     0.93858,     0.93916,     0.93941,     0.93989,     0.94025,     0.94088,     0.94104,     0.94144,     0.94155,     0.94189,     0.94204,     0.94218,     0.94232,     0.94247,\n",
              "            0.94263,     0.94288,     0.94302,     0.94314,     0.94341,     0.94352,     0.94361,     0.94369,     0.94365,     0.94359,     0.94352,     0.94345,     0.94344,      0.9435,     0.94355,     0.94361,     0.94366,     0.94371,     0.94375,     0.94379,     0.94384,     0.94388,     0.94392,\n",
              "            0.94366,      0.9437,     0.94375,      0.9438,     0.94385,     0.94391,     0.94379,     0.94401,     0.94479,     0.94502,     0.94516,     0.94524,     0.94531,     0.94538,     0.94545,     0.94556,     0.94567,     0.94578,      0.9459,     0.94606,     0.94629,     0.94651,     0.94657,\n",
              "            0.94664,      0.9467,     0.94683,     0.94732,     0.94742,     0.94752,     0.94776,      0.9481,     0.94826,     0.94835,     0.94839,     0.94842,     0.94845,     0.94849,     0.94852,     0.94856,     0.94859,     0.94864,     0.94868,     0.94873,     0.94878,     0.94883,     0.94946,\n",
              "            0.94965,      0.9496,     0.94955,     0.94951,     0.94946,     0.94941,     0.94936,     0.94938,      0.9494,     0.94942,     0.94944,     0.94946,     0.94948,      0.9495,     0.94952,     0.94954,     0.94956,     0.94958,     0.94959,     0.94961,     0.94989,     0.95001,     0.95013,\n",
              "            0.95056,     0.95054,      0.9501,     0.95012,     0.95014,     0.95016,     0.95018,      0.9502,     0.95022,     0.95024,     0.95025,     0.95027,     0.95029,     0.95031,     0.95033,     0.95035,     0.95038,     0.95043,     0.95049,     0.95055,      0.9506,     0.95092,     0.95099,\n",
              "            0.95106,     0.95114,     0.95124,     0.95136,      0.9516,      0.9519,     0.95201,     0.95208,     0.95215,     0.95221,     0.95238,     0.95226,     0.95257,     0.95279,     0.95287,     0.95296,     0.95318,     0.95303,     0.95298,     0.95301,     0.95304,     0.95306,     0.95309,\n",
              "            0.95312,     0.95314,     0.95317,      0.9532,     0.95322,     0.95336,     0.95347,     0.95337,     0.95328,     0.95325,     0.95347,     0.95328,     0.95324,     0.95335,     0.95347,     0.95369,     0.95392,     0.95375,      0.9538,     0.95395,     0.95379,     0.95363,     0.95351,\n",
              "            0.95339,     0.95347,     0.95359,     0.95366,     0.95371,     0.95375,     0.95379,     0.95383,     0.95388,     0.95385,     0.95365,     0.95379,     0.95385,     0.95379,     0.95373,     0.95367,     0.95362,     0.95363,     0.95373,     0.95383,     0.95387,      0.9539,     0.95392,\n",
              "            0.95395,     0.95397,       0.954,     0.95402,     0.95405,     0.95407,      0.9541,     0.95381,     0.95362,     0.95386,     0.95402,     0.95416,      0.9543,     0.95438,     0.95443,     0.95449,     0.95454,      0.9546,     0.95441,      0.9543,     0.95428,     0.95427,     0.95425,\n",
              "            0.95423,     0.95421,     0.95419,     0.95417,     0.95415,     0.95413,     0.95411,      0.9541,     0.95408,     0.95406,     0.95404,     0.95402,     0.95391,      0.9538,     0.95373,     0.95375,     0.95377,     0.95378,      0.9538,     0.95382,     0.95384,     0.95386,     0.95387,\n",
              "            0.95389,     0.95391,     0.95393,     0.95395,     0.95397,     0.95398,     0.95402,     0.95408,     0.95413,     0.95419,     0.95425,     0.95402,     0.95419,     0.95447,     0.95463,     0.95476,     0.95472,     0.95465,     0.95459,     0.95453,     0.95452,     0.95466,     0.95478,\n",
              "            0.95485,     0.95492,       0.955,     0.95586,     0.95591,     0.95596,       0.956,     0.95605,     0.95609,     0.95589,     0.95599,     0.95609,     0.95618,     0.95628,     0.95636,     0.95643,      0.9565,     0.95657,     0.95666,      0.9568,     0.95717,      0.9572,     0.95722,\n",
              "            0.95724,     0.95727,     0.95729,     0.95731,     0.95734,     0.95736,     0.95738,     0.95741,     0.95743,     0.95756,      0.9577,     0.95764,     0.95756,     0.95748,     0.95742,     0.95755,     0.95771,     0.95796,     0.95802,     0.95808,     0.95814,      0.9582,     0.95808,\n",
              "            0.95778,     0.95748,     0.95736,     0.95741,     0.95746,      0.9575,     0.95755,      0.9576,      0.9575,     0.95735,     0.95729,     0.95725,     0.95722,     0.95719,     0.95715,     0.95712,     0.95709,     0.95705,     0.95702,     0.95711,      0.9572,     0.95671,     0.95697,\n",
              "            0.95693,     0.95689,     0.95685,     0.95681,     0.95678,     0.95674,      0.9567,     0.95663,     0.95648,     0.95634,     0.95624,     0.95614,      0.9561,     0.95617,     0.95624,     0.95631,     0.95648,     0.95639,     0.95653,     0.95635,     0.95644,     0.95654,     0.95675,\n",
              "            0.95688,     0.95692,     0.95697,     0.95702,     0.95706,     0.95711,     0.95734,     0.95705,       0.957,     0.95695,      0.9569,     0.95685,      0.9568,     0.95677,     0.95675,     0.95672,     0.95669,     0.95667,     0.95664,     0.95662,     0.95659,     0.95657,     0.95654,\n",
              "            0.95652,     0.95657,       0.957,     0.95685,     0.95676,     0.95682,     0.95688,     0.95693,     0.95699,     0.95708,     0.95722,     0.95752,     0.95742,     0.95731,     0.95721,     0.95711,     0.95701,     0.95721,     0.95716,     0.95711,     0.95706,     0.95701,     0.95696,\n",
              "            0.95698,     0.95702,     0.95707,     0.95711,     0.95715,      0.9572,     0.95728,     0.95743,     0.95742,     0.95727,     0.95727,     0.95741,     0.95764,     0.95778,     0.95782,     0.95787,     0.95792,     0.95796,     0.95801,     0.95809,     0.95819,     0.95828,     0.95851,\n",
              "            0.95843,     0.95835,     0.95828,     0.95823,     0.95818,     0.95813,     0.95809,     0.95804,     0.95799,     0.95793,     0.95785,     0.95777,      0.9577,     0.95763,     0.95757,     0.95751,     0.95745,     0.95738,      0.9573,     0.95731,     0.95726,     0.95721,     0.95717,\n",
              "            0.95712,     0.95707,       0.957,     0.95689,     0.95679,     0.95636,      0.9562,     0.95587,     0.95591,     0.95596,       0.956,     0.95605,     0.95609,     0.95581,     0.95576,     0.95571,     0.95566,     0.95561,     0.95557,     0.95552,     0.95537,     0.95522,     0.95506,\n",
              "            0.95492,     0.95506,     0.95519,     0.95514,     0.95509,     0.95504,     0.95499,     0.95495,      0.9549,     0.95495,     0.95503,     0.95511,     0.95518,     0.95523,     0.95528,     0.95534,     0.95539,     0.95544,     0.95566,     0.95561,     0.95555,     0.95549,     0.95544,\n",
              "            0.95545,      0.9555,     0.95556,     0.95562,     0.95568,     0.95583,     0.95594,     0.95584,     0.95573,     0.95574,     0.95588,     0.95583,     0.95572,     0.95562,     0.95533,     0.95537,     0.95542,     0.95546,     0.95551,     0.95555,     0.95532,     0.95555,     0.95548,\n",
              "            0.95541,     0.95535,     0.95528,      0.9554,     0.95514,     0.95502,     0.95523,      0.9553,     0.95537,     0.95544,     0.95481,     0.95465,     0.95451,     0.95439,     0.95395,     0.95365,     0.95356,     0.95347,     0.95338,     0.95322,     0.95302,      0.9529,     0.95277,\n",
              "            0.95262,     0.95247,     0.95237,     0.95228,     0.95219,     0.95189,     0.95154,     0.95092,     0.94984,     0.94953,     0.94931,     0.94925,     0.94918,     0.94912,     0.94906,     0.94875,     0.94889,     0.94899,     0.94891,     0.94883,     0.94875,     0.94866,     0.94853,\n",
              "            0.94841,     0.94821,       0.948,     0.94779,     0.94762,     0.94747,     0.94734,     0.94732,     0.94711,      0.9468,      0.9467,     0.94659,     0.94653,     0.94672,     0.94669,     0.94657,     0.94654,     0.94658,     0.94666,     0.94624,     0.94588,     0.94552,     0.94529,\n",
              "            0.94508,     0.94487,     0.94473,     0.94461,     0.94446,      0.9443,     0.94414,     0.94398,     0.94358,     0.94337,     0.94316,     0.94292,     0.94253,     0.94228,     0.94217,     0.94207,     0.94179,      0.9419,     0.94162,     0.94141,     0.94098,     0.94077,     0.94017,\n",
              "            0.94027,     0.94036,     0.94024,     0.93913,     0.93878,     0.93817,     0.93717,     0.93673,     0.93553,     0.93529,     0.93496,     0.93424,     0.93369,     0.93358,     0.93347,     0.93337,     0.93328,     0.93319,     0.93276,     0.93263,      0.9325,     0.93228,       0.932,\n",
              "            0.93118,     0.93071,     0.92986,     0.92916,     0.92894,     0.92872,     0.92919,     0.92905,     0.92892,       0.929,     0.92832,     0.92761,     0.92696,     0.92712,     0.92591,     0.92507,     0.92393,     0.92343,     0.92228,     0.92212,       0.922,     0.92157,     0.92134,\n",
              "            0.92112,     0.92022,     0.91982,     0.91882,     0.91807,     0.91748,      0.9169,     0.91547,      0.9128,     0.91125,     0.91011,     0.90923,     0.90788,     0.90638,     0.90613,     0.90366,     0.90329,     0.90193,     0.89987,     0.89912,      0.8978,     0.89737,     0.89537,\n",
              "             0.8946,     0.89321,     0.89216,     0.89007,     0.88826,     0.88552,      0.8834,     0.88233,      0.8788,     0.87746,     0.87664,     0.87484,     0.87198,     0.87174,     0.86979,     0.86789,     0.86498,     0.86175,     0.85986,     0.85507,     0.85098,     0.84975,     0.84573,\n",
              "             0.8412,     0.83625,     0.83049,     0.82739,     0.82349,     0.81957,     0.81641,     0.81284,     0.80764,      0.8012,     0.79672,     0.79261,       0.786,     0.78099,     0.77467,     0.76914,     0.76452,     0.75889,     0.75539,     0.75187,     0.74479,     0.73674,      0.7304,\n",
              "              0.724,     0.71706,     0.70912,     0.70012,     0.69389,     0.68371,     0.67485,     0.66737,     0.65879,     0.65623,     0.65008,     0.64646,     0.64074,     0.63759,     0.63126,     0.62595,     0.61975,     0.61272,     0.60943,     0.60284,     0.59753,     0.59027,     0.58518,\n",
              "            0.57949,     0.57662,     0.56855,     0.55571,     0.54978,      0.5378,      0.5299,     0.52007,     0.50696,     0.50315,     0.49487,     0.48714,     0.47607,     0.46815,     0.46214,     0.45205,      0.4466,     0.43973,     0.42935,     0.41811,     0.40815,     0.39878,      0.3849,\n",
              "            0.36928,     0.35793,      0.3441,     0.33161,     0.31893,     0.31009,     0.29871,       0.288,       0.278,     0.27125,     0.26274,      0.2464,     0.23414,     0.21814,     0.20094,     0.18061,     0.16172,     0.14921,     0.14141,     0.12863,     0.11165,     0.10455,    0.091247,\n",
              "           0.083984,    0.079786,     0.07034,     0.06186,    0.057565,    0.050043,    0.040301,    0.036996,    0.031499,    0.024873,    0.021515,    0.015931,    0.013876,    0.011846,    0.010204,   0.0090027,   0.0084157,   0.0078026,   0.0061231,   0.0041749,   0.0035997,   0.0017831,           0,\n",
              "                  0,           0,           0,           0,           0,           0,           0,           0,           0,           0,           0,           0,           0,           0,           0,           0,           0,           0,           0,           0,           0,           0,           0,\n",
              "                  0,           0,           0,           0,           0,           0,           0,           0,           0,           0,           0]]), 'Confidence', 'F1'], [array([          0,    0.001001,    0.002002,    0.003003,    0.004004,    0.005005,    0.006006,    0.007007,    0.008008,    0.009009,     0.01001,    0.011011,    0.012012,    0.013013,    0.014014,    0.015015,    0.016016,    0.017017,    0.018018,    0.019019,     0.02002,    0.021021,    0.022022,    0.023023,\n",
              "          0.024024,    0.025025,    0.026026,    0.027027,    0.028028,    0.029029,     0.03003,    0.031031,    0.032032,    0.033033,    0.034034,    0.035035,    0.036036,    0.037037,    0.038038,    0.039039,     0.04004,    0.041041,    0.042042,    0.043043,    0.044044,    0.045045,    0.046046,    0.047047,\n",
              "          0.048048,    0.049049,     0.05005,    0.051051,    0.052052,    0.053053,    0.054054,    0.055055,    0.056056,    0.057057,    0.058058,    0.059059,     0.06006,    0.061061,    0.062062,    0.063063,    0.064064,    0.065065,    0.066066,    0.067067,    0.068068,    0.069069,     0.07007,    0.071071,\n",
              "          0.072072,    0.073073,    0.074074,    0.075075,    0.076076,    0.077077,    0.078078,    0.079079,     0.08008,    0.081081,    0.082082,    0.083083,    0.084084,    0.085085,    0.086086,    0.087087,    0.088088,    0.089089,     0.09009,    0.091091,    0.092092,    0.093093,    0.094094,    0.095095,\n",
              "          0.096096,    0.097097,    0.098098,    0.099099,      0.1001,      0.1011,      0.1021,      0.1031,      0.1041,     0.10511,     0.10611,     0.10711,     0.10811,     0.10911,     0.11011,     0.11111,     0.11211,     0.11311,     0.11411,     0.11512,     0.11612,     0.11712,     0.11812,     0.11912,\n",
              "           0.12012,     0.12112,     0.12212,     0.12312,     0.12412,     0.12513,     0.12613,     0.12713,     0.12813,     0.12913,     0.13013,     0.13113,     0.13213,     0.13313,     0.13413,     0.13514,     0.13614,     0.13714,     0.13814,     0.13914,     0.14014,     0.14114,     0.14214,     0.14314,\n",
              "           0.14414,     0.14515,     0.14615,     0.14715,     0.14815,     0.14915,     0.15015,     0.15115,     0.15215,     0.15315,     0.15415,     0.15516,     0.15616,     0.15716,     0.15816,     0.15916,     0.16016,     0.16116,     0.16216,     0.16316,     0.16416,     0.16517,     0.16617,     0.16717,\n",
              "           0.16817,     0.16917,     0.17017,     0.17117,     0.17217,     0.17317,     0.17417,     0.17518,     0.17618,     0.17718,     0.17818,     0.17918,     0.18018,     0.18118,     0.18218,     0.18318,     0.18418,     0.18519,     0.18619,     0.18719,     0.18819,     0.18919,     0.19019,     0.19119,\n",
              "           0.19219,     0.19319,     0.19419,      0.1952,      0.1962,      0.1972,      0.1982,      0.1992,      0.2002,      0.2012,      0.2022,      0.2032,      0.2042,     0.20521,     0.20621,     0.20721,     0.20821,     0.20921,     0.21021,     0.21121,     0.21221,     0.21321,     0.21421,     0.21522,\n",
              "           0.21622,     0.21722,     0.21822,     0.21922,     0.22022,     0.22122,     0.22222,     0.22322,     0.22422,     0.22523,     0.22623,     0.22723,     0.22823,     0.22923,     0.23023,     0.23123,     0.23223,     0.23323,     0.23423,     0.23524,     0.23624,     0.23724,     0.23824,     0.23924,\n",
              "           0.24024,     0.24124,     0.24224,     0.24324,     0.24424,     0.24525,     0.24625,     0.24725,     0.24825,     0.24925,     0.25025,     0.25125,     0.25225,     0.25325,     0.25425,     0.25526,     0.25626,     0.25726,     0.25826,     0.25926,     0.26026,     0.26126,     0.26226,     0.26326,\n",
              "           0.26426,     0.26527,     0.26627,     0.26727,     0.26827,     0.26927,     0.27027,     0.27127,     0.27227,     0.27327,     0.27427,     0.27528,     0.27628,     0.27728,     0.27828,     0.27928,     0.28028,     0.28128,     0.28228,     0.28328,     0.28428,     0.28529,     0.28629,     0.28729,\n",
              "           0.28829,     0.28929,     0.29029,     0.29129,     0.29229,     0.29329,     0.29429,      0.2953,      0.2963,      0.2973,      0.2983,      0.2993,      0.3003,      0.3013,      0.3023,      0.3033,      0.3043,     0.30531,     0.30631,     0.30731,     0.30831,     0.30931,     0.31031,     0.31131,\n",
              "           0.31231,     0.31331,     0.31431,     0.31532,     0.31632,     0.31732,     0.31832,     0.31932,     0.32032,     0.32132,     0.32232,     0.32332,     0.32432,     0.32533,     0.32633,     0.32733,     0.32833,     0.32933,     0.33033,     0.33133,     0.33233,     0.33333,     0.33433,     0.33534,\n",
              "           0.33634,     0.33734,     0.33834,     0.33934,     0.34034,     0.34134,     0.34234,     0.34334,     0.34434,     0.34535,     0.34635,     0.34735,     0.34835,     0.34935,     0.35035,     0.35135,     0.35235,     0.35335,     0.35435,     0.35536,     0.35636,     0.35736,     0.35836,     0.35936,\n",
              "           0.36036,     0.36136,     0.36236,     0.36336,     0.36436,     0.36537,     0.36637,     0.36737,     0.36837,     0.36937,     0.37037,     0.37137,     0.37237,     0.37337,     0.37437,     0.37538,     0.37638,     0.37738,     0.37838,     0.37938,     0.38038,     0.38138,     0.38238,     0.38338,\n",
              "           0.38438,     0.38539,     0.38639,     0.38739,     0.38839,     0.38939,     0.39039,     0.39139,     0.39239,     0.39339,     0.39439,      0.3954,      0.3964,      0.3974,      0.3984,      0.3994,      0.4004,      0.4014,      0.4024,      0.4034,      0.4044,     0.40541,     0.40641,     0.40741,\n",
              "           0.40841,     0.40941,     0.41041,     0.41141,     0.41241,     0.41341,     0.41441,     0.41542,     0.41642,     0.41742,     0.41842,     0.41942,     0.42042,     0.42142,     0.42242,     0.42342,     0.42442,     0.42543,     0.42643,     0.42743,     0.42843,     0.42943,     0.43043,     0.43143,\n",
              "           0.43243,     0.43343,     0.43443,     0.43544,     0.43644,     0.43744,     0.43844,     0.43944,     0.44044,     0.44144,     0.44244,     0.44344,     0.44444,     0.44545,     0.44645,     0.44745,     0.44845,     0.44945,     0.45045,     0.45145,     0.45245,     0.45345,     0.45445,     0.45546,\n",
              "           0.45646,     0.45746,     0.45846,     0.45946,     0.46046,     0.46146,     0.46246,     0.46346,     0.46446,     0.46547,     0.46647,     0.46747,     0.46847,     0.46947,     0.47047,     0.47147,     0.47247,     0.47347,     0.47447,     0.47548,     0.47648,     0.47748,     0.47848,     0.47948,\n",
              "           0.48048,     0.48148,     0.48248,     0.48348,     0.48448,     0.48549,     0.48649,     0.48749,     0.48849,     0.48949,     0.49049,     0.49149,     0.49249,     0.49349,     0.49449,      0.4955,      0.4965,      0.4975,      0.4985,      0.4995,      0.5005,      0.5015,      0.5025,      0.5035,\n",
              "            0.5045,     0.50551,     0.50651,     0.50751,     0.50851,     0.50951,     0.51051,     0.51151,     0.51251,     0.51351,     0.51451,     0.51552,     0.51652,     0.51752,     0.51852,     0.51952,     0.52052,     0.52152,     0.52252,     0.52352,     0.52452,     0.52553,     0.52653,     0.52753,\n",
              "           0.52853,     0.52953,     0.53053,     0.53153,     0.53253,     0.53353,     0.53453,     0.53554,     0.53654,     0.53754,     0.53854,     0.53954,     0.54054,     0.54154,     0.54254,     0.54354,     0.54454,     0.54555,     0.54655,     0.54755,     0.54855,     0.54955,     0.55055,     0.55155,\n",
              "           0.55255,     0.55355,     0.55455,     0.55556,     0.55656,     0.55756,     0.55856,     0.55956,     0.56056,     0.56156,     0.56256,     0.56356,     0.56456,     0.56557,     0.56657,     0.56757,     0.56857,     0.56957,     0.57057,     0.57157,     0.57257,     0.57357,     0.57457,     0.57558,\n",
              "           0.57658,     0.57758,     0.57858,     0.57958,     0.58058,     0.58158,     0.58258,     0.58358,     0.58458,     0.58559,     0.58659,     0.58759,     0.58859,     0.58959,     0.59059,     0.59159,     0.59259,     0.59359,     0.59459,      0.5956,      0.5966,      0.5976,      0.5986,      0.5996,\n",
              "            0.6006,      0.6016,      0.6026,      0.6036,      0.6046,     0.60561,     0.60661,     0.60761,     0.60861,     0.60961,     0.61061,     0.61161,     0.61261,     0.61361,     0.61461,     0.61562,     0.61662,     0.61762,     0.61862,     0.61962,     0.62062,     0.62162,     0.62262,     0.62362,\n",
              "           0.62462,     0.62563,     0.62663,     0.62763,     0.62863,     0.62963,     0.63063,     0.63163,     0.63263,     0.63363,     0.63463,     0.63564,     0.63664,     0.63764,     0.63864,     0.63964,     0.64064,     0.64164,     0.64264,     0.64364,     0.64464,     0.64565,     0.64665,     0.64765,\n",
              "           0.64865,     0.64965,     0.65065,     0.65165,     0.65265,     0.65365,     0.65465,     0.65566,     0.65666,     0.65766,     0.65866,     0.65966,     0.66066,     0.66166,     0.66266,     0.66366,     0.66466,     0.66567,     0.66667,     0.66767,     0.66867,     0.66967,     0.67067,     0.67167,\n",
              "           0.67267,     0.67367,     0.67467,     0.67568,     0.67668,     0.67768,     0.67868,     0.67968,     0.68068,     0.68168,     0.68268,     0.68368,     0.68468,     0.68569,     0.68669,     0.68769,     0.68869,     0.68969,     0.69069,     0.69169,     0.69269,     0.69369,     0.69469,      0.6957,\n",
              "            0.6967,      0.6977,      0.6987,      0.6997,      0.7007,      0.7017,      0.7027,      0.7037,      0.7047,     0.70571,     0.70671,     0.70771,     0.70871,     0.70971,     0.71071,     0.71171,     0.71271,     0.71371,     0.71471,     0.71572,     0.71672,     0.71772,     0.71872,     0.71972,\n",
              "           0.72072,     0.72172,     0.72272,     0.72372,     0.72472,     0.72573,     0.72673,     0.72773,     0.72873,     0.72973,     0.73073,     0.73173,     0.73273,     0.73373,     0.73473,     0.73574,     0.73674,     0.73774,     0.73874,     0.73974,     0.74074,     0.74174,     0.74274,     0.74374,\n",
              "           0.74474,     0.74575,     0.74675,     0.74775,     0.74875,     0.74975,     0.75075,     0.75175,     0.75275,     0.75375,     0.75475,     0.75576,     0.75676,     0.75776,     0.75876,     0.75976,     0.76076,     0.76176,     0.76276,     0.76376,     0.76476,     0.76577,     0.76677,     0.76777,\n",
              "           0.76877,     0.76977,     0.77077,     0.77177,     0.77277,     0.77377,     0.77477,     0.77578,     0.77678,     0.77778,     0.77878,     0.77978,     0.78078,     0.78178,     0.78278,     0.78378,     0.78478,     0.78579,     0.78679,     0.78779,     0.78879,     0.78979,     0.79079,     0.79179,\n",
              "           0.79279,     0.79379,     0.79479,      0.7958,      0.7968,      0.7978,      0.7988,      0.7998,      0.8008,      0.8018,      0.8028,      0.8038,      0.8048,     0.80581,     0.80681,     0.80781,     0.80881,     0.80981,     0.81081,     0.81181,     0.81281,     0.81381,     0.81481,     0.81582,\n",
              "           0.81682,     0.81782,     0.81882,     0.81982,     0.82082,     0.82182,     0.82282,     0.82382,     0.82482,     0.82583,     0.82683,     0.82783,     0.82883,     0.82983,     0.83083,     0.83183,     0.83283,     0.83383,     0.83483,     0.83584,     0.83684,     0.83784,     0.83884,     0.83984,\n",
              "           0.84084,     0.84184,     0.84284,     0.84384,     0.84484,     0.84585,     0.84685,     0.84785,     0.84885,     0.84985,     0.85085,     0.85185,     0.85285,     0.85385,     0.85485,     0.85586,     0.85686,     0.85786,     0.85886,     0.85986,     0.86086,     0.86186,     0.86286,     0.86386,\n",
              "           0.86486,     0.86587,     0.86687,     0.86787,     0.86887,     0.86987,     0.87087,     0.87187,     0.87287,     0.87387,     0.87487,     0.87588,     0.87688,     0.87788,     0.87888,     0.87988,     0.88088,     0.88188,     0.88288,     0.88388,     0.88488,     0.88589,     0.88689,     0.88789,\n",
              "           0.88889,     0.88989,     0.89089,     0.89189,     0.89289,     0.89389,     0.89489,      0.8959,      0.8969,      0.8979,      0.8989,      0.8999,      0.9009,      0.9019,      0.9029,      0.9039,      0.9049,     0.90591,     0.90691,     0.90791,     0.90891,     0.90991,     0.91091,     0.91191,\n",
              "           0.91291,     0.91391,     0.91491,     0.91592,     0.91692,     0.91792,     0.91892,     0.91992,     0.92092,     0.92192,     0.92292,     0.92392,     0.92492,     0.92593,     0.92693,     0.92793,     0.92893,     0.92993,     0.93093,     0.93193,     0.93293,     0.93393,     0.93493,     0.93594,\n",
              "           0.93694,     0.93794,     0.93894,     0.93994,     0.94094,     0.94194,     0.94294,     0.94394,     0.94494,     0.94595,     0.94695,     0.94795,     0.94895,     0.94995,     0.95095,     0.95195,     0.95295,     0.95395,     0.95495,     0.95596,     0.95696,     0.95796,     0.95896,     0.95996,\n",
              "           0.96096,     0.96196,     0.96296,     0.96396,     0.96496,     0.96597,     0.96697,     0.96797,     0.96897,     0.96997,     0.97097,     0.97197,     0.97297,     0.97397,     0.97497,     0.97598,     0.97698,     0.97798,     0.97898,     0.97998,     0.98098,     0.98198,     0.98298,     0.98398,\n",
              "           0.98498,     0.98599,     0.98699,     0.98799,     0.98899,     0.98999,     0.99099,     0.99199,     0.99299,     0.99399,     0.99499,       0.996,       0.997,       0.998,       0.999,           1]), array([[    0.43702,     0.43702,     0.54595,     0.60428,     0.64494,     0.66761,     0.69698,     0.71512,     0.73268,     0.74485,     0.75576,     0.76236,     0.77072,     0.77594,     0.78344,       0.789,     0.79501,     0.80187,     0.80538,     0.80949,       0.812,      0.8146,     0.81795,\n",
              "            0.82143,     0.82617,     0.82953,     0.83286,     0.83667,     0.83976,     0.84228,     0.84353,     0.84732,     0.84887,     0.85029,     0.85208,     0.85346,     0.85431,     0.85634,     0.85751,      0.8585,     0.86075,     0.86236,     0.86406,     0.86516,     0.86722,     0.86757,\n",
              "            0.86962,     0.87096,     0.87174,     0.87252,     0.87281,     0.87315,     0.87367,     0.87391,     0.87421,     0.87489,     0.87644,     0.87827,     0.87967,     0.88008,     0.88028,     0.88079,     0.88226,     0.88267,     0.88284,     0.88301,     0.88384,     0.88499,     0.88541,\n",
              "            0.88592,     0.88687,     0.88778,     0.88807,     0.88803,     0.88956,     0.89134,     0.89355,     0.89353,     0.89351,     0.89406,     0.89495,     0.89511,     0.89527,     0.89545,     0.89568,     0.89638,     0.89663,     0.89693,     0.89727,     0.89778,     0.89898,     0.89957,\n",
              "            0.89953,     0.89959,     0.90016,     0.90048,      0.9014,     0.90159,     0.90177,     0.90229,     0.90248,     0.90267,     0.90279,     0.90288,     0.90297,     0.90307,     0.90316,     0.90348,     0.90367,     0.90364,     0.90471,     0.90562,     0.90592,     0.90617,      0.9064,\n",
              "            0.90671,     0.90709,     0.90743,     0.90804,     0.90822,      0.9084,     0.90871,     0.90937,     0.91034,     0.91032,      0.9103,     0.91061,     0.91156,     0.91244,     0.91267,     0.91266,     0.91266,     0.91265,     0.91264,     0.91263,     0.91263,     0.91262,      0.9126,\n",
              "            0.91259,     0.91259,     0.91284,     0.91309,     0.91336,     0.91347,     0.91414,     0.91449,     0.91472,     0.91503,     0.91612,      0.9166,     0.91751,      0.9182,     0.91941,     0.91972,     0.92047,     0.92068,     0.92134,     0.92162,     0.92189,     0.92216,     0.92245,\n",
              "            0.92276,     0.92323,     0.92351,     0.92374,     0.92424,     0.92447,     0.92463,      0.9248,     0.92482,     0.92481,      0.9248,     0.92479,     0.92483,     0.92494,     0.92504,     0.92515,     0.92525,     0.92534,     0.92542,     0.92551,     0.92559,     0.92567,     0.92575,\n",
              "            0.92575,     0.92584,     0.92594,     0.92604,     0.92614,     0.92625,     0.92654,     0.92698,     0.92847,     0.92892,     0.92919,     0.92935,     0.92948,     0.92962,     0.92975,     0.92996,     0.93017,     0.93039,     0.93062,     0.93094,     0.93138,      0.9318,     0.93192,\n",
              "            0.93204,     0.93217,     0.93242,     0.93337,     0.93357,     0.93377,     0.93423,      0.9349,      0.9352,     0.93538,     0.93544,     0.93551,     0.93558,     0.93564,     0.93571,     0.93578,     0.93584,     0.93593,     0.93603,     0.93612,     0.93621,     0.93631,     0.93753,\n",
              "            0.93791,     0.93791,      0.9379,     0.93789,     0.93789,     0.93788,     0.93788,     0.93792,     0.93796,     0.93799,     0.93803,     0.93807,     0.93811,     0.93815,     0.93818,     0.93822,     0.93826,      0.9383,     0.93834,     0.93837,     0.93891,     0.93915,     0.93938,\n",
              "            0.94023,     0.94045,     0.94041,     0.94045,     0.94048,     0.94052,     0.94056,     0.94059,     0.94063,     0.94067,      0.9407,     0.94074,     0.94078,     0.94081,     0.94085,     0.94089,     0.94094,     0.94105,     0.94117,     0.94128,     0.94139,     0.94201,     0.94215,\n",
              "            0.94229,     0.94243,     0.94264,     0.94288,     0.94335,     0.94393,     0.94415,     0.94428,     0.94442,     0.94455,     0.94508,     0.94507,      0.9458,     0.94623,      0.9464,     0.94656,     0.94716,     0.94714,     0.94717,     0.94722,     0.94727,     0.94732,     0.94738,\n",
              "            0.94743,     0.94748,     0.94753,     0.94759,     0.94764,     0.94792,     0.94819,     0.94818,     0.94817,     0.94825,     0.94868,     0.94867,     0.94877,     0.94899,     0.94923,     0.94966,     0.95025,     0.95023,     0.95043,     0.95074,     0.95074,     0.95073,     0.95071,\n",
              "             0.9507,      0.9509,     0.95114,     0.95129,     0.95137,     0.95145,     0.95154,     0.95162,     0.95171,     0.95176,     0.95174,      0.9521,     0.95227,     0.95227,     0.95226,     0.95226,     0.95225,     0.95234,     0.95254,     0.95274,     0.95282,     0.95287,     0.95292,\n",
              "            0.95297,     0.95302,     0.95307,     0.95312,     0.95317,     0.95322,     0.95327,     0.95329,     0.95345,     0.95391,     0.95423,     0.95452,     0.95479,     0.95496,     0.95507,     0.95518,     0.95529,      0.9554,      0.9554,     0.95539,     0.95539,     0.95539,     0.95539,\n",
              "            0.95539,     0.95538,     0.95538,     0.95538,     0.95538,     0.95538,     0.95538,     0.95537,     0.95537,     0.95537,     0.95537,     0.95537,     0.95536,     0.95535,     0.95535,     0.95539,     0.95543,     0.95546,      0.9555,     0.95553,     0.95557,     0.95561,     0.95564,\n",
              "            0.95568,     0.95572,     0.95575,     0.95579,     0.95583,     0.95586,     0.95593,     0.95605,     0.95617,     0.95628,      0.9564,      0.9564,     0.95685,     0.95741,     0.95772,       0.958,     0.95802,     0.95802,     0.95801,     0.95801,     0.95808,     0.95836,     0.95859,\n",
              "            0.95874,     0.95889,     0.95904,     0.96079,     0.96088,     0.96098,     0.96107,     0.96116,     0.96126,     0.96142,     0.96162,     0.96183,     0.96201,      0.9622,     0.96238,     0.96252,     0.96266,      0.9628,     0.96299,     0.96327,     0.96402,     0.96407,     0.96411,\n",
              "            0.96416,     0.96421,     0.96426,     0.96431,     0.96435,      0.9644,     0.96445,      0.9645,     0.96455,      0.9648,     0.96509,      0.9651,     0.96509,     0.96509,     0.96509,     0.96538,     0.96568,      0.9662,     0.96632,     0.96644,     0.96656,     0.96668,     0.96673,\n",
              "            0.96671,     0.96669,     0.96674,     0.96683,     0.96693,     0.96702,     0.96712,     0.96721,     0.96723,     0.96723,     0.96722,     0.96722,     0.96722,     0.96721,     0.96721,     0.96721,     0.96721,     0.96721,      0.9672,     0.96739,     0.96758,     0.96774,     0.96828,\n",
              "            0.96828,     0.96828,     0.96827,     0.96827,     0.96827,     0.96827,     0.96826,     0.96826,     0.96825,     0.96824,     0.96824,     0.96823,     0.96828,     0.96842,     0.96857,     0.96871,     0.96906,     0.96947,     0.96976,     0.96998,     0.97017,     0.97036,     0.97079,\n",
              "            0.97106,     0.97116,     0.97125,     0.97135,     0.97145,     0.97154,     0.97202,     0.97211,      0.9721,      0.9721,      0.9721,      0.9721,     0.97209,     0.97209,     0.97209,     0.97209,     0.97209,     0.97209,     0.97208,     0.97208,     0.97208,     0.97208,     0.97208,\n",
              "            0.97208,     0.97223,     0.97321,      0.9732,     0.97323,     0.97335,     0.97346,     0.97358,      0.9737,     0.97389,     0.97418,      0.9749,     0.97489,     0.97489,     0.97488,     0.97488,     0.97487,     0.97544,     0.97543,     0.97543,     0.97543,     0.97543,     0.97542,\n",
              "             0.9755,     0.97559,     0.97568,     0.97577,     0.97586,     0.97595,     0.97613,     0.97642,     0.97656,     0.97656,     0.97671,     0.97701,     0.97748,     0.97776,     0.97786,     0.97796,     0.97805,     0.97815,     0.97825,     0.97842,     0.97862,     0.97882,     0.97942,\n",
              "            0.97942,     0.97942,     0.97941,     0.97941,     0.97941,     0.97941,      0.9794,      0.9794,      0.9794,      0.9794,     0.97939,     0.97939,     0.97939,     0.97939,     0.97938,     0.97938,     0.97938,     0.97938,     0.97985,     0.97994,     0.97994,     0.97994,     0.97993,\n",
              "            0.97993,     0.97993,     0.97993,     0.97992,     0.97992,      0.9799,      0.9799,     0.97994,     0.98003,     0.98012,     0.98021,      0.9803,      0.9804,     0.98045,     0.98045,     0.98045,     0.98044,     0.98044,     0.98044,     0.98044,     0.98043,     0.98043,     0.98042,\n",
              "            0.98043,     0.98073,       0.981,       0.981,     0.98099,     0.98099,     0.98099,     0.98099,     0.98099,     0.98111,     0.98128,     0.98146,     0.98161,     0.98171,     0.98182,     0.98193,     0.98204,     0.98215,     0.98274,     0.98273,     0.98273,     0.98273,     0.98273,\n",
              "             0.9828,     0.98292,     0.98304,     0.98316,     0.98328,      0.9836,      0.9839,      0.9839,     0.98389,     0.98447,     0.98498,     0.98505,     0.98505,     0.98505,     0.98508,     0.98517,     0.98527,     0.98536,     0.98545,     0.98555,     0.98569,     0.98621,     0.98621,\n",
              "            0.98621,     0.98621,      0.9862,     0.98651,     0.98678,     0.98697,     0.98742,     0.98758,     0.98773,     0.98788,     0.98795,     0.98795,     0.98794,     0.98794,     0.98793,     0.98792,     0.98792,     0.98792,     0.98792,     0.98791,     0.98791,      0.9879,      0.9879,\n",
              "             0.9879,     0.98789,     0.98789,     0.98789,     0.98789,     0.98788,     0.98787,     0.98786,     0.98783,     0.98782,     0.98841,     0.98841,     0.98841,     0.98841,     0.98841,     0.98844,     0.98875,       0.989,       0.989,       0.989,       0.989,       0.989,     0.98899,\n",
              "            0.98899,     0.98899,     0.98898,     0.98898,     0.98897,     0.98897,     0.98937,     0.98957,     0.98956,     0.98956,     0.98956,     0.98955,     0.98961,     0.99003,     0.99016,     0.99016,      0.9903,     0.99076,     0.99124,     0.99136,     0.99135,     0.99135,     0.99134,\n",
              "            0.99134,     0.99134,     0.99133,     0.99133,     0.99133,     0.99133,     0.99132,     0.99132,     0.99131,     0.99131,     0.99131,      0.9913,      0.9913,     0.99129,     0.99129,     0.99129,     0.99128,      0.9919,     0.99189,     0.99189,     0.99188,     0.99188,     0.99197,\n",
              "            0.99218,     0.99239,     0.99249,     0.99247,     0.99247,     0.99246,     0.99244,     0.99244,     0.99242,     0.99241,     0.99241,      0.9924,     0.99239,     0.99239,     0.99239,     0.99238,     0.99238,     0.99238,     0.99238,     0.99237,     0.99237,     0.99237,     0.99236,\n",
              "            0.99235,     0.99234,     0.99233,     0.99232,     0.99232,     0.99231,     0.99359,     0.99358,     0.99358,     0.99422,     0.99421,      0.9942,     0.99483,     0.99541,     0.99546,     0.99546,     0.99545,     0.99544,     0.99543,     0.99543,     0.99552,     0.99607,     0.99607,\n",
              "            0.99607,     0.99606,     0.99606,     0.99605,     0.99605,     0.99604,     0.99604,     0.99602,       0.996,     0.99599,     0.99598,     0.99597,     0.99596,     0.99595,     0.99595,     0.99593,     0.99593,     0.99592,      0.9959,     0.99589,     0.99588,     0.99656,     0.99655,\n",
              "            0.99654,     0.99653,     0.99652,     0.99651,      0.9965,     0.99648,     0.99646,     0.99645,     0.99643,     0.99642,     0.99641,      0.9964,     0.99638,     0.99638,     0.99636,     0.99708,     0.99706,     0.99704,     0.99703,       0.997,     0.99697,     0.99697,     0.99694,\n",
              "            0.99691,     0.99688,     0.99684,     0.99682,      0.9968,     0.99677,     0.99675,     0.99673,     0.99669,     0.99665,     0.99662,     0.99659,     0.99654,      0.9965,     0.99646,     0.99641,     0.99818,     0.99816,     0.99815,     0.99814,     0.99811,     0.99807,     0.99805,\n",
              "            0.99802,     0.99799,     0.99796,     0.99791,     0.99789,     0.99784,     0.99779,     0.99776,     0.99771,      0.9977,     0.99767,     0.99765,     0.99762,      0.9976,     0.99757,     0.99754,     0.99875,     0.99873,     0.99872,      0.9987,           1,           1,           1,\n",
              "                  1,           1,           1,           1,           1,           1,           1,           1,           1,           1,           1,           1,           1,           1,           1,           1,           1,           1,           1,           1,           1,           1,           1,\n",
              "                  1,           1,           1,           1,           1,           1,           1,           1,           1,           1,           1,           1,           1,           1,           1,           1,           1,           1,           1,           1,           1,           1,           1,\n",
              "                  1,           1,           1,           1,           1,           1,           1,           1,           1,           1,           1,           1,           1,           1,           1,           1,           1,           1,           1,           1,           1,           1,           1,\n",
              "                  1,           1,           1,           1,           1,           1,           1,           1,           1,           1,           1,           1,           1,           1,           1,           1,           1,           1,           1,           1,           1,           1,           1,\n",
              "                  1,           1,           1,           1,           1,           1,           1,           1,           1,           1,           1]]), 'Confidence', 'Precision'], [array([          0,    0.001001,    0.002002,    0.003003,    0.004004,    0.005005,    0.006006,    0.007007,    0.008008,    0.009009,     0.01001,    0.011011,    0.012012,    0.013013,    0.014014,    0.015015,    0.016016,    0.017017,    0.018018,    0.019019,     0.02002,    0.021021,    0.022022,    0.023023,\n",
              "          0.024024,    0.025025,    0.026026,    0.027027,    0.028028,    0.029029,     0.03003,    0.031031,    0.032032,    0.033033,    0.034034,    0.035035,    0.036036,    0.037037,    0.038038,    0.039039,     0.04004,    0.041041,    0.042042,    0.043043,    0.044044,    0.045045,    0.046046,    0.047047,\n",
              "          0.048048,    0.049049,     0.05005,    0.051051,    0.052052,    0.053053,    0.054054,    0.055055,    0.056056,    0.057057,    0.058058,    0.059059,     0.06006,    0.061061,    0.062062,    0.063063,    0.064064,    0.065065,    0.066066,    0.067067,    0.068068,    0.069069,     0.07007,    0.071071,\n",
              "          0.072072,    0.073073,    0.074074,    0.075075,    0.076076,    0.077077,    0.078078,    0.079079,     0.08008,    0.081081,    0.082082,    0.083083,    0.084084,    0.085085,    0.086086,    0.087087,    0.088088,    0.089089,     0.09009,    0.091091,    0.092092,    0.093093,    0.094094,    0.095095,\n",
              "          0.096096,    0.097097,    0.098098,    0.099099,      0.1001,      0.1011,      0.1021,      0.1031,      0.1041,     0.10511,     0.10611,     0.10711,     0.10811,     0.10911,     0.11011,     0.11111,     0.11211,     0.11311,     0.11411,     0.11512,     0.11612,     0.11712,     0.11812,     0.11912,\n",
              "           0.12012,     0.12112,     0.12212,     0.12312,     0.12412,     0.12513,     0.12613,     0.12713,     0.12813,     0.12913,     0.13013,     0.13113,     0.13213,     0.13313,     0.13413,     0.13514,     0.13614,     0.13714,     0.13814,     0.13914,     0.14014,     0.14114,     0.14214,     0.14314,\n",
              "           0.14414,     0.14515,     0.14615,     0.14715,     0.14815,     0.14915,     0.15015,     0.15115,     0.15215,     0.15315,     0.15415,     0.15516,     0.15616,     0.15716,     0.15816,     0.15916,     0.16016,     0.16116,     0.16216,     0.16316,     0.16416,     0.16517,     0.16617,     0.16717,\n",
              "           0.16817,     0.16917,     0.17017,     0.17117,     0.17217,     0.17317,     0.17417,     0.17518,     0.17618,     0.17718,     0.17818,     0.17918,     0.18018,     0.18118,     0.18218,     0.18318,     0.18418,     0.18519,     0.18619,     0.18719,     0.18819,     0.18919,     0.19019,     0.19119,\n",
              "           0.19219,     0.19319,     0.19419,      0.1952,      0.1962,      0.1972,      0.1982,      0.1992,      0.2002,      0.2012,      0.2022,      0.2032,      0.2042,     0.20521,     0.20621,     0.20721,     0.20821,     0.20921,     0.21021,     0.21121,     0.21221,     0.21321,     0.21421,     0.21522,\n",
              "           0.21622,     0.21722,     0.21822,     0.21922,     0.22022,     0.22122,     0.22222,     0.22322,     0.22422,     0.22523,     0.22623,     0.22723,     0.22823,     0.22923,     0.23023,     0.23123,     0.23223,     0.23323,     0.23423,     0.23524,     0.23624,     0.23724,     0.23824,     0.23924,\n",
              "           0.24024,     0.24124,     0.24224,     0.24324,     0.24424,     0.24525,     0.24625,     0.24725,     0.24825,     0.24925,     0.25025,     0.25125,     0.25225,     0.25325,     0.25425,     0.25526,     0.25626,     0.25726,     0.25826,     0.25926,     0.26026,     0.26126,     0.26226,     0.26326,\n",
              "           0.26426,     0.26527,     0.26627,     0.26727,     0.26827,     0.26927,     0.27027,     0.27127,     0.27227,     0.27327,     0.27427,     0.27528,     0.27628,     0.27728,     0.27828,     0.27928,     0.28028,     0.28128,     0.28228,     0.28328,     0.28428,     0.28529,     0.28629,     0.28729,\n",
              "           0.28829,     0.28929,     0.29029,     0.29129,     0.29229,     0.29329,     0.29429,      0.2953,      0.2963,      0.2973,      0.2983,      0.2993,      0.3003,      0.3013,      0.3023,      0.3033,      0.3043,     0.30531,     0.30631,     0.30731,     0.30831,     0.30931,     0.31031,     0.31131,\n",
              "           0.31231,     0.31331,     0.31431,     0.31532,     0.31632,     0.31732,     0.31832,     0.31932,     0.32032,     0.32132,     0.32232,     0.32332,     0.32432,     0.32533,     0.32633,     0.32733,     0.32833,     0.32933,     0.33033,     0.33133,     0.33233,     0.33333,     0.33433,     0.33534,\n",
              "           0.33634,     0.33734,     0.33834,     0.33934,     0.34034,     0.34134,     0.34234,     0.34334,     0.34434,     0.34535,     0.34635,     0.34735,     0.34835,     0.34935,     0.35035,     0.35135,     0.35235,     0.35335,     0.35435,     0.35536,     0.35636,     0.35736,     0.35836,     0.35936,\n",
              "           0.36036,     0.36136,     0.36236,     0.36336,     0.36436,     0.36537,     0.36637,     0.36737,     0.36837,     0.36937,     0.37037,     0.37137,     0.37237,     0.37337,     0.37437,     0.37538,     0.37638,     0.37738,     0.37838,     0.37938,     0.38038,     0.38138,     0.38238,     0.38338,\n",
              "           0.38438,     0.38539,     0.38639,     0.38739,     0.38839,     0.38939,     0.39039,     0.39139,     0.39239,     0.39339,     0.39439,      0.3954,      0.3964,      0.3974,      0.3984,      0.3994,      0.4004,      0.4014,      0.4024,      0.4034,      0.4044,     0.40541,     0.40641,     0.40741,\n",
              "           0.40841,     0.40941,     0.41041,     0.41141,     0.41241,     0.41341,     0.41441,     0.41542,     0.41642,     0.41742,     0.41842,     0.41942,     0.42042,     0.42142,     0.42242,     0.42342,     0.42442,     0.42543,     0.42643,     0.42743,     0.42843,     0.42943,     0.43043,     0.43143,\n",
              "           0.43243,     0.43343,     0.43443,     0.43544,     0.43644,     0.43744,     0.43844,     0.43944,     0.44044,     0.44144,     0.44244,     0.44344,     0.44444,     0.44545,     0.44645,     0.44745,     0.44845,     0.44945,     0.45045,     0.45145,     0.45245,     0.45345,     0.45445,     0.45546,\n",
              "           0.45646,     0.45746,     0.45846,     0.45946,     0.46046,     0.46146,     0.46246,     0.46346,     0.46446,     0.46547,     0.46647,     0.46747,     0.46847,     0.46947,     0.47047,     0.47147,     0.47247,     0.47347,     0.47447,     0.47548,     0.47648,     0.47748,     0.47848,     0.47948,\n",
              "           0.48048,     0.48148,     0.48248,     0.48348,     0.48448,     0.48549,     0.48649,     0.48749,     0.48849,     0.48949,     0.49049,     0.49149,     0.49249,     0.49349,     0.49449,      0.4955,      0.4965,      0.4975,      0.4985,      0.4995,      0.5005,      0.5015,      0.5025,      0.5035,\n",
              "            0.5045,     0.50551,     0.50651,     0.50751,     0.50851,     0.50951,     0.51051,     0.51151,     0.51251,     0.51351,     0.51451,     0.51552,     0.51652,     0.51752,     0.51852,     0.51952,     0.52052,     0.52152,     0.52252,     0.52352,     0.52452,     0.52553,     0.52653,     0.52753,\n",
              "           0.52853,     0.52953,     0.53053,     0.53153,     0.53253,     0.53353,     0.53453,     0.53554,     0.53654,     0.53754,     0.53854,     0.53954,     0.54054,     0.54154,     0.54254,     0.54354,     0.54454,     0.54555,     0.54655,     0.54755,     0.54855,     0.54955,     0.55055,     0.55155,\n",
              "           0.55255,     0.55355,     0.55455,     0.55556,     0.55656,     0.55756,     0.55856,     0.55956,     0.56056,     0.56156,     0.56256,     0.56356,     0.56456,     0.56557,     0.56657,     0.56757,     0.56857,     0.56957,     0.57057,     0.57157,     0.57257,     0.57357,     0.57457,     0.57558,\n",
              "           0.57658,     0.57758,     0.57858,     0.57958,     0.58058,     0.58158,     0.58258,     0.58358,     0.58458,     0.58559,     0.58659,     0.58759,     0.58859,     0.58959,     0.59059,     0.59159,     0.59259,     0.59359,     0.59459,      0.5956,      0.5966,      0.5976,      0.5986,      0.5996,\n",
              "            0.6006,      0.6016,      0.6026,      0.6036,      0.6046,     0.60561,     0.60661,     0.60761,     0.60861,     0.60961,     0.61061,     0.61161,     0.61261,     0.61361,     0.61461,     0.61562,     0.61662,     0.61762,     0.61862,     0.61962,     0.62062,     0.62162,     0.62262,     0.62362,\n",
              "           0.62462,     0.62563,     0.62663,     0.62763,     0.62863,     0.62963,     0.63063,     0.63163,     0.63263,     0.63363,     0.63463,     0.63564,     0.63664,     0.63764,     0.63864,     0.63964,     0.64064,     0.64164,     0.64264,     0.64364,     0.64464,     0.64565,     0.64665,     0.64765,\n",
              "           0.64865,     0.64965,     0.65065,     0.65165,     0.65265,     0.65365,     0.65465,     0.65566,     0.65666,     0.65766,     0.65866,     0.65966,     0.66066,     0.66166,     0.66266,     0.66366,     0.66466,     0.66567,     0.66667,     0.66767,     0.66867,     0.66967,     0.67067,     0.67167,\n",
              "           0.67267,     0.67367,     0.67467,     0.67568,     0.67668,     0.67768,     0.67868,     0.67968,     0.68068,     0.68168,     0.68268,     0.68368,     0.68468,     0.68569,     0.68669,     0.68769,     0.68869,     0.68969,     0.69069,     0.69169,     0.69269,     0.69369,     0.69469,      0.6957,\n",
              "            0.6967,      0.6977,      0.6987,      0.6997,      0.7007,      0.7017,      0.7027,      0.7037,      0.7047,     0.70571,     0.70671,     0.70771,     0.70871,     0.70971,     0.71071,     0.71171,     0.71271,     0.71371,     0.71471,     0.71572,     0.71672,     0.71772,     0.71872,     0.71972,\n",
              "           0.72072,     0.72172,     0.72272,     0.72372,     0.72472,     0.72573,     0.72673,     0.72773,     0.72873,     0.72973,     0.73073,     0.73173,     0.73273,     0.73373,     0.73473,     0.73574,     0.73674,     0.73774,     0.73874,     0.73974,     0.74074,     0.74174,     0.74274,     0.74374,\n",
              "           0.74474,     0.74575,     0.74675,     0.74775,     0.74875,     0.74975,     0.75075,     0.75175,     0.75275,     0.75375,     0.75475,     0.75576,     0.75676,     0.75776,     0.75876,     0.75976,     0.76076,     0.76176,     0.76276,     0.76376,     0.76476,     0.76577,     0.76677,     0.76777,\n",
              "           0.76877,     0.76977,     0.77077,     0.77177,     0.77277,     0.77377,     0.77477,     0.77578,     0.77678,     0.77778,     0.77878,     0.77978,     0.78078,     0.78178,     0.78278,     0.78378,     0.78478,     0.78579,     0.78679,     0.78779,     0.78879,     0.78979,     0.79079,     0.79179,\n",
              "           0.79279,     0.79379,     0.79479,      0.7958,      0.7968,      0.7978,      0.7988,      0.7998,      0.8008,      0.8018,      0.8028,      0.8038,      0.8048,     0.80581,     0.80681,     0.80781,     0.80881,     0.80981,     0.81081,     0.81181,     0.81281,     0.81381,     0.81481,     0.81582,\n",
              "           0.81682,     0.81782,     0.81882,     0.81982,     0.82082,     0.82182,     0.82282,     0.82382,     0.82482,     0.82583,     0.82683,     0.82783,     0.82883,     0.82983,     0.83083,     0.83183,     0.83283,     0.83383,     0.83483,     0.83584,     0.83684,     0.83784,     0.83884,     0.83984,\n",
              "           0.84084,     0.84184,     0.84284,     0.84384,     0.84484,     0.84585,     0.84685,     0.84785,     0.84885,     0.84985,     0.85085,     0.85185,     0.85285,     0.85385,     0.85485,     0.85586,     0.85686,     0.85786,     0.85886,     0.85986,     0.86086,     0.86186,     0.86286,     0.86386,\n",
              "           0.86486,     0.86587,     0.86687,     0.86787,     0.86887,     0.86987,     0.87087,     0.87187,     0.87287,     0.87387,     0.87487,     0.87588,     0.87688,     0.87788,     0.87888,     0.87988,     0.88088,     0.88188,     0.88288,     0.88388,     0.88488,     0.88589,     0.88689,     0.88789,\n",
              "           0.88889,     0.88989,     0.89089,     0.89189,     0.89289,     0.89389,     0.89489,      0.8959,      0.8969,      0.8979,      0.8989,      0.8999,      0.9009,      0.9019,      0.9029,      0.9039,      0.9049,     0.90591,     0.90691,     0.90791,     0.90891,     0.90991,     0.91091,     0.91191,\n",
              "           0.91291,     0.91391,     0.91491,     0.91592,     0.91692,     0.91792,     0.91892,     0.91992,     0.92092,     0.92192,     0.92292,     0.92392,     0.92492,     0.92593,     0.92693,     0.92793,     0.92893,     0.92993,     0.93093,     0.93193,     0.93293,     0.93393,     0.93493,     0.93594,\n",
              "           0.93694,     0.93794,     0.93894,     0.93994,     0.94094,     0.94194,     0.94294,     0.94394,     0.94494,     0.94595,     0.94695,     0.94795,     0.94895,     0.94995,     0.95095,     0.95195,     0.95295,     0.95395,     0.95495,     0.95596,     0.95696,     0.95796,     0.95896,     0.95996,\n",
              "           0.96096,     0.96196,     0.96296,     0.96396,     0.96496,     0.96597,     0.96697,     0.96797,     0.96897,     0.96997,     0.97097,     0.97197,     0.97297,     0.97397,     0.97497,     0.97598,     0.97698,     0.97798,     0.97898,     0.97998,     0.98098,     0.98198,     0.98298,     0.98398,\n",
              "           0.98498,     0.98599,     0.98699,     0.98799,     0.98899,     0.98999,     0.99099,     0.99199,     0.99299,     0.99399,     0.99499,       0.996,       0.997,       0.998,       0.999,           1]), array([[    0.98704,     0.98704,     0.98366,     0.98254,     0.98141,     0.98085,     0.98085,     0.98028,     0.98028,     0.97972,     0.97972,     0.97859,     0.97859,     0.97859,     0.97803,     0.97746,      0.9769,      0.9769,      0.9769,     0.97634,     0.97634,     0.97634,     0.97634,\n",
              "            0.97634,     0.97634,     0.97634,     0.97577,     0.97521,     0.97521,     0.97521,     0.97521,     0.97521,     0.97467,     0.97352,     0.97352,     0.97352,     0.97296,     0.97296,     0.97296,     0.97296,     0.97296,     0.97239,     0.97239,     0.97183,     0.97127,     0.97127,\n",
              "            0.97127,     0.97127,      0.9707,      0.9707,     0.97014,     0.97014,     0.97014,     0.97014,     0.97014,     0.97014,     0.97014,     0.97014,     0.97014,     0.97014,     0.97014,     0.97014,     0.97014,     0.97014,     0.97014,     0.97014,     0.97014,     0.97014,     0.97014,\n",
              "            0.97014,     0.97014,     0.97014,     0.96997,     0.96962,     0.96958,     0.96958,      0.9695,     0.96928,     0.96905,     0.96901,     0.96901,     0.96901,     0.96901,     0.96901,     0.96901,     0.96901,     0.96901,     0.96901,     0.96901,     0.96901,     0.96901,     0.96889,\n",
              "             0.9685,     0.96789,     0.96789,     0.96789,     0.96789,     0.96789,     0.96789,     0.96732,     0.96732,     0.96732,     0.96732,     0.96732,     0.96732,     0.96732,     0.96732,     0.96732,     0.96712,     0.96682,     0.96676,     0.96676,     0.96676,     0.96676,     0.96676,\n",
              "            0.96676,     0.96676,     0.96676,     0.96676,     0.96676,     0.96676,     0.96676,     0.96676,     0.96667,     0.96645,     0.96622,      0.9662,     0.96563,     0.96563,      0.9656,     0.96552,     0.96543,     0.96534,     0.96526,     0.96517,     0.96508,     0.96493,     0.96478,\n",
              "            0.96463,     0.96394,     0.96394,     0.96394,     0.96394,     0.96343,     0.96338,     0.96338,     0.96338,     0.96338,     0.96338,     0.96338,     0.96338,     0.96338,     0.96338,     0.96338,     0.96338,     0.96338,     0.96338,     0.96338,     0.96338,     0.96338,     0.96338,\n",
              "            0.96338,     0.96338,     0.96338,     0.96338,     0.96338,     0.96338,     0.96338,     0.96338,     0.96327,     0.96315,     0.96302,     0.96289,     0.96282,     0.96282,     0.96282,     0.96282,     0.96282,     0.96282,     0.96282,     0.96282,     0.96282,     0.96282,     0.96282,\n",
              "            0.96227,     0.96225,     0.96225,     0.96225,     0.96225,     0.96225,     0.96169,     0.96169,     0.96169,     0.96169,     0.96169,     0.96169,     0.96169,     0.96169,     0.96169,     0.96169,     0.96169,     0.96169,     0.96169,     0.96169,     0.96169,     0.96169,     0.96169,\n",
              "            0.96169,     0.96169,     0.96169,     0.96169,     0.96169,     0.96169,     0.96169,     0.96169,     0.96169,     0.96169,     0.96169,     0.96169,     0.96169,     0.96169,     0.96169,     0.96169,     0.96169,     0.96169,     0.96169,     0.96169,     0.96169,     0.96169,     0.96169,\n",
              "            0.96169,      0.9616,      0.9615,     0.96141,     0.96131,     0.96122,     0.96113,     0.96113,     0.96113,     0.96113,     0.96113,     0.96113,     0.96113,     0.96113,     0.96113,     0.96113,     0.96113,     0.96113,     0.96113,     0.96113,     0.96113,     0.96113,     0.96113,\n",
              "            0.96113,     0.96086,        0.96,        0.96,        0.96,        0.96,        0.96,        0.96,        0.96,        0.96,        0.96,        0.96,        0.96,        0.96,        0.96,        0.96,        0.96,        0.96,        0.96,        0.96,        0.96,        0.96,        0.96,\n",
              "               0.96,        0.96,        0.96,        0.96,        0.96,        0.96,        0.96,        0.96,        0.96,        0.96,      0.9598,     0.95956,     0.95944,     0.95944,     0.95944,     0.95944,     0.95928,     0.95899,     0.95887,     0.95887,     0.95887,     0.95887,     0.95887,\n",
              "            0.95887,     0.95887,     0.95887,     0.95887,     0.95887,     0.95887,     0.95881,     0.95863,     0.95845,     0.95831,     0.95831,     0.95793,     0.95775,     0.95775,     0.95775,     0.95775,     0.95762,     0.95729,     0.95718,     0.95718,     0.95687,     0.95656,     0.95633,\n",
              "             0.9561,     0.95606,     0.95606,     0.95606,     0.95606,     0.95606,     0.95606,     0.95606,     0.95606,     0.95595,     0.95556,     0.95549,     0.95543,     0.95532,     0.95521,      0.9551,     0.95499,     0.95493,     0.95493,     0.95493,     0.95493,     0.95493,     0.95493,\n",
              "            0.95493,     0.95493,     0.95493,     0.95493,     0.95493,     0.95493,     0.95493,     0.95432,      0.9538,      0.9538,      0.9538,      0.9538,      0.9538,      0.9538,      0.9538,      0.9538,      0.9538,      0.9538,     0.95343,     0.95322,     0.95318,     0.95315,     0.95311,\n",
              "            0.95307,     0.95304,       0.953,     0.95297,     0.95293,     0.95289,     0.95286,     0.95282,     0.95278,     0.95275,     0.95271,     0.95268,     0.95247,     0.95226,     0.95211,     0.95211,     0.95211,     0.95211,     0.95211,     0.95211,     0.95211,     0.95211,     0.95211,\n",
              "            0.95211,     0.95211,     0.95211,     0.95211,     0.95211,     0.95211,     0.95211,     0.95211,     0.95211,     0.95211,     0.95211,     0.95166,     0.95155,     0.95155,     0.95155,     0.95155,     0.95144,     0.95132,      0.9512,     0.95107,     0.95099,     0.95099,     0.95099,\n",
              "            0.95099,     0.95099,     0.95099,     0.95099,     0.95099,     0.95099,     0.95099,     0.95099,     0.95099,     0.95042,     0.95042,     0.95042,     0.95042,     0.95042,     0.95042,     0.95042,     0.95042,     0.95042,     0.95042,     0.95042,     0.95042,     0.95042,     0.95042,\n",
              "            0.95042,     0.95042,     0.95042,     0.95042,     0.95042,     0.95042,     0.95042,     0.95042,     0.95042,     0.95042,     0.95042,     0.95029,     0.95014,        0.95,     0.94986,     0.94986,     0.94986,     0.94986,     0.94986,     0.94986,     0.94986,     0.94986,     0.94959,\n",
              "            0.94901,     0.94843,     0.94817,     0.94817,     0.94817,     0.94817,     0.94817,     0.94817,     0.94797,     0.94768,     0.94756,     0.94749,     0.94743,     0.94737,      0.9473,     0.94724,     0.94717,     0.94711,     0.94704,     0.94704,     0.94704,     0.94592,     0.94591,\n",
              "            0.94584,     0.94577,     0.94569,     0.94562,     0.94555,     0.94548,     0.94541,     0.94528,     0.94499,     0.94473,     0.94454,     0.94435,     0.94423,     0.94423,     0.94423,     0.94423,     0.94423,     0.94366,     0.94366,      0.9431,      0.9431,      0.9431,      0.9431,\n",
              "             0.9431,      0.9431,      0.9431,      0.9431,      0.9431,      0.9431,      0.9431,     0.94246,     0.94236,     0.94226,     0.94217,     0.94207,     0.94198,     0.94193,     0.94188,     0.94183,     0.94178,     0.94173,     0.94168,     0.94164,     0.94159,     0.94154,     0.94149,\n",
              "            0.94144,     0.94141,     0.94133,     0.94104,     0.94085,     0.94085,     0.94085,     0.94085,     0.94085,     0.94085,     0.94085,     0.94075,     0.94056,     0.94036,     0.94017,     0.93998,     0.93979,     0.93966,     0.93956,     0.93946,     0.93937,     0.93927,     0.93917,\n",
              "            0.93915,     0.93915,     0.93915,     0.93915,     0.93915,     0.93915,     0.93915,     0.93915,     0.93901,     0.93872,     0.93859,     0.93859,     0.93859,     0.93859,     0.93859,     0.93859,     0.93859,     0.93859,     0.93859,     0.93859,     0.93859,     0.93859,     0.93847,\n",
              "            0.93833,     0.93818,     0.93804,     0.93794,     0.93786,     0.93777,     0.93768,     0.93759,      0.9375,     0.93738,     0.93723,     0.93709,     0.93695,     0.93682,     0.93671,     0.93659,     0.93647,     0.93636,     0.93577,      0.9357,     0.93561,     0.93552,     0.93543,\n",
              "            0.93534,     0.93526,     0.93511,     0.93492,     0.93473,     0.93392,     0.93363,     0.93296,     0.93296,     0.93296,     0.93296,     0.93296,     0.93296,     0.93237,     0.93228,     0.93219,      0.9321,     0.93201,     0.93192,     0.93184,     0.93156,     0.93127,     0.93098,\n",
              "             0.9307,      0.9307,      0.9307,     0.93061,     0.93052,     0.93043,     0.93034,     0.93025,     0.93016,     0.93014,     0.93014,     0.93014,     0.93014,     0.93014,     0.93014,     0.93014,     0.93014,     0.93014,     0.93004,     0.92993,     0.92983,     0.92972,     0.92962,\n",
              "            0.92958,     0.92958,     0.92958,     0.92958,     0.92958,     0.92958,     0.92953,     0.92933,     0.92914,     0.92863,     0.92845,     0.92828,     0.92809,      0.9279,     0.92732,     0.92732,     0.92732,     0.92732,     0.92732,     0.92732,     0.92676,     0.92674,     0.92661,\n",
              "            0.92649,     0.92636,     0.92623,      0.9262,     0.92547,     0.92507,     0.92507,     0.92507,     0.92507,     0.92507,     0.92382,     0.92353,     0.92327,     0.92304,     0.92223,     0.92168,     0.92151,     0.92135,     0.92118,     0.92088,     0.92052,     0.92029,     0.92006,\n",
              "            0.91978,      0.9195,     0.91931,     0.91914,     0.91898,     0.91843,     0.91779,     0.91665,     0.91467,     0.91409,     0.91318,     0.91307,     0.91295,     0.91283,     0.91272,     0.91211,     0.91211,     0.91209,     0.91194,      0.9118,     0.91165,     0.91148,     0.91125,\n",
              "            0.91102,     0.91066,     0.91027,     0.90989,     0.90959,      0.9093,     0.90873,     0.90854,     0.90814,     0.90759,      0.9074,     0.90721,     0.90704,     0.90704,     0.90689,     0.90666,     0.90648,     0.90618,     0.90592,     0.90504,      0.9044,     0.90374,     0.90333,\n",
              "            0.90294,     0.90256,     0.90232,     0.90209,     0.90183,     0.90154,     0.90125,     0.90096,     0.90024,     0.89985,     0.89947,     0.89905,     0.89835,     0.89789,      0.8977,      0.8975,       0.897,     0.89671,      0.8962,     0.89581,     0.89505,     0.89467,     0.89352,\n",
              "            0.89352,     0.89352,     0.89321,     0.89123,      0.8906,     0.88951,     0.88772,     0.88695,     0.88481,     0.88438,     0.88381,     0.88251,     0.88154,     0.88135,     0.88116,     0.88099,     0.88082,     0.88066,      0.8799,     0.87967,     0.87944,     0.87905,     0.87857,\n",
              "             0.8771,     0.87628,     0.87479,     0.87356,     0.87318,     0.87279,     0.87263,      0.8724,     0.87216,     0.87181,     0.87063,     0.86938,     0.86775,     0.86761,     0.86544,     0.86397,     0.86201,     0.86113,     0.85915,     0.85886,     0.85859,     0.85743,     0.85704,\n",
              "            0.85666,     0.85512,     0.85443,     0.85271,     0.85141,      0.8504,     0.84941,     0.84696,     0.84243,     0.83979,     0.83786,     0.83638,     0.83412,     0.83158,     0.83118,     0.82703,     0.82643,     0.82415,     0.82074,     0.81949,      0.8173,     0.81615,     0.81285,\n",
              "            0.81158,      0.8093,     0.80758,     0.80417,     0.80123,     0.79679,     0.79338,     0.79167,       0.786,     0.78387,     0.78257,     0.77972,      0.7752,     0.77482,     0.77175,     0.76834,     0.76381,     0.75879,     0.75586,     0.74851,     0.74229,     0.74042,     0.73434,\n",
              "            0.72755,      0.7202,     0.71172,     0.70719,     0.70153,     0.69586,     0.69133,     0.68623,     0.67888,     0.66983,     0.66361,     0.65795,     0.64891,     0.64212,     0.63364,     0.62629,      0.6195,     0.61214,     0.60761,     0.60307,     0.59403,     0.58386,     0.57595,\n",
              "            0.56803,     0.55955,     0.54995,     0.53921,     0.53186,        0.52,     0.50983,     0.50136,     0.49175,      0.4889,     0.48212,     0.47814,     0.47192,     0.46851,     0.46172,     0.45606,     0.44927,     0.44192,     0.43851,     0.43172,     0.42606,     0.41871,     0.41361,\n",
              "            0.40795,      0.4051,     0.39719,     0.38476,      0.3791,     0.36781,     0.36045,     0.35141,     0.33955,     0.33614,     0.32879,       0.322,      0.3124,     0.30561,     0.30051,     0.29203,      0.2875,     0.28183,     0.27335,     0.26431,      0.2564,     0.24904,     0.23831,\n",
              "            0.22645,     0.21797,      0.2078,     0.19876,     0.18972,      0.1835,     0.17558,     0.16823,     0.16144,      0.1569,     0.15124,     0.14051,     0.13259,     0.12242,     0.11169,    0.099269,    0.087974,    0.080621,    0.076086,    0.068734,    0.059128,    0.055157,    0.047804,\n",
              "           0.043833,    0.041551,    0.036452,    0.031917,    0.029635,    0.025663,    0.020565,    0.018846,    0.016001,    0.012593,    0.010875,   0.0080294,   0.0069863,   0.0059584,   0.0051279,   0.0045217,   0.0042256,   0.0039166,    0.003071,   0.0020918,   0.0018031,  0.00089235,           0,\n",
              "                  0,           0,           0,           0,           0,           0,           0,           0,           0,           0,           0,           0,           0,           0,           0,           0,           0,           0,           0,           0,           0,           0,           0,\n",
              "                  0,           0,           0,           0,           0,           0,           0,           0,           0,           0,           0]]), 'Confidence', 'Recall']]\n",
              "fitness: np.float64(0.839476477842924)\n",
              "keys: ['metrics/precision(B)', 'metrics/recall(B)', 'metrics/mAP50(B)', 'metrics/mAP50-95(B)']\n",
              "maps: array([    0.82368])\n",
              "names: {0: 'gloves'}\n",
              "nt_per_class: array([1775])\n",
              "nt_per_image: array([828])\n",
              "results_dict: {'metrics/precision(B)': 0.9755857854880388, 'metrics/recall(B)': 0.9391549295774648, 'metrics/mAP50(B)': 0.9816251102711542, 'metrics/mAP50-95(B)': 0.8236821853508983, 'fitness': 0.839476477842924}\n",
              "save_dir: PosixPath('runs/detect/train5')\n",
              "speed: {'preprocess': 0.2415645338211889, 'inference': 2.1760070507241105, 'loss': 0.00045132849659393364, 'postprocess': 2.442049277784981}\n",
              "stats: {'tp': [], 'conf': [], 'pred_cls': [], 'target_cls': [], 'target_img': []}\n",
              "task: 'detect'"
            ]
          },
          "metadata": {},
          "execution_count": 7
        }
      ]
    },
    {
      "cell_type": "code",
      "source": [
        "from ultralytics import YOLO\n",
        "model = YOLO(\"runs/detect/train5/weights/best.pt\")\n",
        "model.predict(source=\"/content/glove-30/valid/images/02_b143366b-b211-4004-8ffb-56d3a8038745_jpg.rf.806cf5381a7db99673bb463048c9f86e.jpg\", show=True, save=True)\n"
      ],
      "metadata": {
        "colab": {
          "base_uri": "https://localhost:8080/"
        },
        "id": "xYQfM-LU5X1e",
        "outputId": "ae9d0ee1-810d-40ae-91af-1f60c8815a31"
      },
      "execution_count": 8,
      "outputs": [
        {
          "output_type": "stream",
          "name": "stdout",
          "text": [
            "WARNING ⚠️ Environment does not support cv2.imshow() or PIL Image.show()\n",
            "\n",
            "\n",
            "image 1/1 /content/glove-30/valid/images/02_b143366b-b211-4004-8ffb-56d3a8038745_jpg.rf.806cf5381a7db99673bb463048c9f86e.jpg: 608x640 2 glovess, 39.7ms\n",
            "Speed: 4.4ms preprocess, 39.7ms inference, 1.8ms postprocess per image at shape (1, 3, 608, 640)\n",
            "Results saved to \u001b[1mruns/detect/predict\u001b[0m\n"
          ]
        },
        {
          "output_type": "execute_result",
          "data": {
            "text/plain": [
              "[ultralytics.engine.results.Results object with attributes:\n",
              " \n",
              " boxes: ultralytics.engine.results.Boxes object\n",
              " keypoints: None\n",
              " masks: None\n",
              " names: {0: 'gloves'}\n",
              " obb: None\n",
              " orig_img: array([[[255, 255, 255],\n",
              "         [255, 255, 255],\n",
              "         [255, 255, 255],\n",
              "         ...,\n",
              "         [255, 255, 255],\n",
              "         [255, 255, 255],\n",
              "         [255, 255, 255]],\n",
              " \n",
              "        [[255, 255, 255],\n",
              "         [255, 255, 255],\n",
              "         [255, 255, 255],\n",
              "         ...,\n",
              "         [255, 255, 255],\n",
              "         [255, 255, 255],\n",
              "         [255, 255, 255]],\n",
              " \n",
              "        [[255, 255, 255],\n",
              "         [255, 255, 255],\n",
              "         [255, 255, 255],\n",
              "         ...,\n",
              "         [255, 255, 255],\n",
              "         [255, 255, 255],\n",
              "         [255, 255, 255]],\n",
              " \n",
              "        ...,\n",
              " \n",
              "        [[255, 255, 255],\n",
              "         [255, 255, 255],\n",
              "         [255, 255, 255],\n",
              "         ...,\n",
              "         [255, 255, 255],\n",
              "         [255, 255, 255],\n",
              "         [255, 255, 255]],\n",
              " \n",
              "        [[255, 255, 255],\n",
              "         [255, 255, 255],\n",
              "         [255, 255, 255],\n",
              "         ...,\n",
              "         [255, 255, 255],\n",
              "         [255, 255, 255],\n",
              "         [255, 255, 255]],\n",
              " \n",
              "        [[255, 255, 255],\n",
              "         [255, 255, 255],\n",
              "         [255, 255, 255],\n",
              "         ...,\n",
              "         [255, 255, 255],\n",
              "         [255, 255, 255],\n",
              "         [255, 255, 255]]], dtype=uint8)\n",
              " orig_shape: (1413, 1500)\n",
              " path: '/content/glove-30/valid/images/02_b143366b-b211-4004-8ffb-56d3a8038745_jpg.rf.806cf5381a7db99673bb463048c9f86e.jpg'\n",
              " probs: None\n",
              " save_dir: 'runs/detect/predict'\n",
              " speed: {'preprocess': 4.418750999320764, 'inference': 39.66978399876098, 'postprocess': 1.7778490000637248}]"
            ]
          },
          "metadata": {},
          "execution_count": 8
        }
      ]
    },
    {
      "cell_type": "code",
      "source": [
        "from ultralytics import YOLO\n",
        "import cv2\n",
        "\n",
        "# Load trained model\n",
        "model = YOLO(\"runs/detect/train5/weights/best.pt\")\n",
        "\n",
        "# Path to test image\n",
        "img_path = \"/content/glove-30/valid/images/02_b143366b-b211-4004-8ffb-56d3a8038745_jpg.rf.806cf5381a7db99673bb463048c9f86e.jpg\"\n",
        "\n",
        "# Run prediction\n",
        "results = model.predict(img_path, save=True, conf=0.5)\n",
        "\n",
        "# Get detection count\n",
        "detected = len(results[0].boxes)\n",
        "\n",
        "if detected == 0:\n",
        "    print(\"No Gloves\")\n",
        "else:\n",
        "    print(f\"Detected {detected} glove(s)\")\n"
      ],
      "metadata": {
        "colab": {
          "base_uri": "https://localhost:8080/"
        },
        "id": "nd2vpTIYeh5T",
        "outputId": "a2b5ec41-9830-442f-d8c7-ba92a28707bb"
      },
      "execution_count": 11,
      "outputs": [
        {
          "output_type": "stream",
          "name": "stdout",
          "text": [
            "\n",
            "image 1/1 /content/glove-30/valid/images/02_b143366b-b211-4004-8ffb-56d3a8038745_jpg.rf.806cf5381a7db99673bb463048c9f86e.jpg: 608x640 2 glovess, 10.2ms\n",
            "Speed: 6.5ms preprocess, 10.2ms inference, 2.4ms postprocess per image at shape (1, 3, 608, 640)\n",
            "Results saved to \u001b[1mruns/detect/predict2\u001b[0m\n",
            "Detected 2 glove(s)\n"
          ]
        }
      ]
    },
    {
      "cell_type": "code",
      "source": [
        "from ultralytics import YOLO\n",
        "import cv2\n",
        "\n",
        "# Load trained model\n",
        "model = YOLO(\"runs/detect/train5/weights/best.pt\")\n",
        "\n",
        "# Path to test image\n",
        "img_path = \"/content/stock-photo-close-up-bare-hands-of-male-in-isolated-white-background-505624180.jpg\"\n",
        "\n",
        "# Run prediction\n",
        "results = model.predict(img_path, save=True, conf=0.5)\n",
        "\n",
        "# Get detection count\n",
        "detected = len(results[0].boxes)\n",
        "\n",
        "if detected == 0:\n",
        "    print(\"No Gloves\")\n",
        "else:\n",
        "    print(f\"Detected {detected} glove(s)\")\n"
      ],
      "metadata": {
        "colab": {
          "base_uri": "https://localhost:8080/"
        },
        "id": "VDDt2iaaiPe3",
        "outputId": "ab40647c-4206-4e5e-dcc6-ed9ae410199e"
      },
      "execution_count": 12,
      "outputs": [
        {
          "output_type": "stream",
          "name": "stdout",
          "text": [
            "\n",
            "image 1/1 /content/stock-photo-close-up-bare-hands-of-male-in-isolated-white-background-505624180.jpg: 480x640 (no detections), 41.1ms\n",
            "Speed: 3.3ms preprocess, 41.1ms inference, 0.8ms postprocess per image at shape (1, 3, 480, 640)\n",
            "Results saved to \u001b[1mruns/detect/predict3\u001b[0m\n",
            "No Gloves\n"
          ]
        }
      ]
    },
    {
      "cell_type": "code",
      "source": [],
      "metadata": {
        "id": "oOh_CC4jivvs"
      },
      "execution_count": null,
      "outputs": []
    }
  ]
}